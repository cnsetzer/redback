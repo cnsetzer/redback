{
 "cells": [
  {
   "cell_type": "markdown",
   "id": "9f292d87",
   "metadata": {
    "slideshow": {
     "slide_type": "slide"
    }
   },
   "source": [
    "# Redback: an open source bayesian inference package for fitting electromagnetic transients. \n",
    "\n",
    "## How redback can be useful to you.\n",
    "- ### Download data for supernovae, tidal disruption events, gamma-ray burst afterglows, kilonovae, prompt emission from different catalogs/telescopes; Swift, BATSE, Open access catalogs. Users can also provide their own data or use simulated data\n",
    "\n",
    "- ### Redback processes the data into a homogeneous transient object, plotting lightcurves and doing other processing.\n",
    "\n",
    "- ### The user can then fit one of the models implemented in redback. Or fit their own model. Models for several different types of electromagnetic transients are implemented and range from simple analytical models to numerical surrogates.\n",
    "\n",
    "- ### All models are implemented as functions and can be used to simulate populations, without needing to provide data. This way redback can be used simply as a tool to simulate realistic populations, no need to actually fit anything.\n",
    "\n",
    "- ### [Bilby](https://lscsoft.docs.ligo.org/bilby/index.html) under the hood. Can easily switch samplers/likelihoods etc. Over 15 samplers are implemented and the list continues to grow. \n",
    "\n",
    "- ### Fitting returns a homogenous result object, with functionality to plot lightcurves/walkers/corner and the posterior/evidence/credible interval etc. This way redback results can feed into hierarchical analysis of populations of transients or be used in reweighting.\n",
    "\n",
    "### Online documentation\n",
    "\n",
    "- ### [Installation](https://redback.readthedocs.io/en/latest/)\n",
    "- ### [Examples](https://github.com/nikhil-sarin/redback/tree/master/examples)\n",
    "- ### [Documentation](https://redback.readthedocs.io/en/latest/)\n",
    "\n",
    "### Contributing \n",
    "- ### Redback is currently in alpha with a paper in preparation. If you are interested in contributing please join the redback [slack](https://join.slack.com/t/slack-23u4492/shared_invite/zt-14y9q1qmo-VRmc8ZxHzB3u~dB3Wi6pjw) and get in touch with [me](mailto:nikhil.sarin@su.se?subject=Contributing%20to%20redback). \n",
    "- ### All contributors at the alpha stage will be invited to be co-authors of the first paper.\n",
    "\n",
    "<!-- ![](notebook_images/RedbackLogo.png) -->\n",
    "<img src=\"notebook_images/RedbackLogo.png\" alt=\"drawing\" width=\"500\"/>"
   ]
  },
  {
   "cell_type": "code",
   "execution_count": 2,
   "id": "dafb7022",
   "metadata": {
    "slideshow": {
     "slide_type": "subslide"
    }
   },
   "outputs": [
    {
     "data": {
      "text/html": [
       "<style>.container { width:80% !important; }</style>"
      ],
      "text/plain": [
       "<IPython.core.display.HTML object>"
      ]
     },
     "metadata": {},
     "output_type": "display_data"
    },
    {
     "data": {
      "text/html": [
       "<style>.output { max-width:100% !important; }</style>"
      ],
      "text/plain": [
       "<IPython.core.display.HTML object>"
      ]
     },
     "metadata": {},
     "output_type": "display_data"
    },
    {
     "data": {
      "text/html": [
       "<style>.output { display: flex; align-items: center;text-align: center;}</style>"
      ],
      "text/plain": [
       "<IPython.core.display.HTML object>"
      ]
     },
     "metadata": {},
     "output_type": "display_data"
    },
    {
     "name": "stdout",
     "output_type": "stream",
     "text": [
      "%pylab is deprecated, use %matplotlib inline and import the required libraries.\n",
      "Populating the interactive namespace from numpy and matplotlib\n"
     ]
    }
   ],
   "source": [
    "import redback \n",
    "import pandas as pd\n",
    "from bilby.core.prior import PriorDict\n",
    "import bilby\n",
    "from IPython.core.display import display, HTML\n",
    "display(HTML(\"<style>.container { width:80% !important; }</style>\"))\n",
    "display(HTML(\"<style>.output { max-width:100% !important; }</style>\"))\n",
    "display(HTML(\"\"\"<style>.output { display: flex; align-items: center;text-align: center;}</style>\"\"\"))\n",
    "%pylab inline"
   ]
  },
  {
   "cell_type": "markdown",
   "id": "ef87be51",
   "metadata": {
    "slideshow": {
     "slide_type": "slide"
    }
   },
   "source": [
    "# Downloading data from different catalogs e.g., the open access catalogs"
   ]
  },
  {
   "cell_type": "code",
   "execution_count": 3,
   "id": "97dbb890",
   "metadata": {
    "slideshow": {
     "slide_type": "slide"
    }
   },
   "outputs": [
    {
     "name": "stderr",
     "output_type": "stream",
     "text": [
      "Some data points do not have system information. Assuming AB magnitude\n"
     ]
    },
    {
     "data": {
      "text/html": [
       "<div>\n",
       "<style scoped>\n",
       "    .dataframe tbody tr th:only-of-type {\n",
       "        vertical-align: middle;\n",
       "    }\n",
       "\n",
       "    .dataframe tbody tr th {\n",
       "        vertical-align: top;\n",
       "    }\n",
       "\n",
       "    .dataframe thead th {\n",
       "        text-align: right;\n",
       "    }\n",
       "</style>\n",
       "<table border=\"1\" class=\"dataframe\">\n",
       "  <thead>\n",
       "    <tr style=\"text-align: right;\">\n",
       "      <th></th>\n",
       "      <th>event</th>\n",
       "      <th>time</th>\n",
       "      <th>magnitude</th>\n",
       "      <th>e_magnitude</th>\n",
       "      <th>band</th>\n",
       "      <th>system</th>\n",
       "      <th>flux_density(mjy)</th>\n",
       "      <th>flux_density_error</th>\n",
       "      <th>time (days)</th>\n",
       "    </tr>\n",
       "  </thead>\n",
       "  <tbody>\n",
       "    <tr>\n",
       "      <th>0</th>\n",
       "      <td>at2017gfo</td>\n",
       "      <td>57982.981400</td>\n",
       "      <td>17.48</td>\n",
       "      <td>0.02</td>\n",
       "      <td>i</td>\n",
       "      <td>AB</td>\n",
       "      <td>0.369828</td>\n",
       "      <td>0.006813</td>\n",
       "      <td>0.481400</td>\n",
       "    </tr>\n",
       "    <tr>\n",
       "      <th>1</th>\n",
       "      <td>at2017gfo</td>\n",
       "      <td>57982.990200</td>\n",
       "      <td>18.26</td>\n",
       "      <td>0.15</td>\n",
       "      <td>H</td>\n",
       "      <td>AB</td>\n",
       "      <td>0.180302</td>\n",
       "      <td>0.024911</td>\n",
       "      <td>0.490200</td>\n",
       "    </tr>\n",
       "    <tr>\n",
       "      <th>3</th>\n",
       "      <td>at2017gfo</td>\n",
       "      <td>57982.993000</td>\n",
       "      <td>17.46</td>\n",
       "      <td>0.03</td>\n",
       "      <td>r</td>\n",
       "      <td>AB</td>\n",
       "      <td>0.376704</td>\n",
       "      <td>0.010409</td>\n",
       "      <td>0.493000</td>\n",
       "    </tr>\n",
       "    <tr>\n",
       "      <th>4</th>\n",
       "      <td>at2017gfo</td>\n",
       "      <td>57982.999000</td>\n",
       "      <td>18.62</td>\n",
       "      <td>0.05</td>\n",
       "      <td>Ks</td>\n",
       "      <td>AB</td>\n",
       "      <td>0.129420</td>\n",
       "      <td>0.005960</td>\n",
       "      <td>0.499000</td>\n",
       "    </tr>\n",
       "    <tr>\n",
       "      <th>5</th>\n",
       "      <td>at2017gfo</td>\n",
       "      <td>57983.000000</td>\n",
       "      <td>17.83</td>\n",
       "      <td>0.15</td>\n",
       "      <td>J</td>\n",
       "      <td>AB</td>\n",
       "      <td>0.267917</td>\n",
       "      <td>0.037016</td>\n",
       "      <td>0.500000</td>\n",
       "    </tr>\n",
       "    <tr>\n",
       "      <th>...</th>\n",
       "      <td>...</td>\n",
       "      <td>...</td>\n",
       "      <td>...</td>\n",
       "      <td>...</td>\n",
       "      <td>...</td>\n",
       "      <td>...</td>\n",
       "      <td>...</td>\n",
       "      <td>...</td>\n",
       "      <td>...</td>\n",
       "    </tr>\n",
       "    <tr>\n",
       "      <th>640</th>\n",
       "      <td>at2017gfo</td>\n",
       "      <td>58001.988519</td>\n",
       "      <td>20.85</td>\n",
       "      <td>0.13</td>\n",
       "      <td>Ks</td>\n",
       "      <td>AB</td>\n",
       "      <td>0.016596</td>\n",
       "      <td>0.001987</td>\n",
       "      <td>19.488519</td>\n",
       "    </tr>\n",
       "    <tr>\n",
       "      <th>641</th>\n",
       "      <td>at2017gfo</td>\n",
       "      <td>58001.989000</td>\n",
       "      <td>21.23</td>\n",
       "      <td>0.37</td>\n",
       "      <td>Ks</td>\n",
       "      <td>AB</td>\n",
       "      <td>0.011695</td>\n",
       "      <td>0.003986</td>\n",
       "      <td>19.489000</td>\n",
       "    </tr>\n",
       "    <tr>\n",
       "      <th>642</th>\n",
       "      <td>at2017gfo</td>\n",
       "      <td>58001.992000</td>\n",
       "      <td>23.37</td>\n",
       "      <td>0.48</td>\n",
       "      <td>z</td>\n",
       "      <td>AB</td>\n",
       "      <td>0.001629</td>\n",
       "      <td>0.000720</td>\n",
       "      <td>19.492000</td>\n",
       "    </tr>\n",
       "    <tr>\n",
       "      <th>643</th>\n",
       "      <td>at2017gfo</td>\n",
       "      <td>58003.969000</td>\n",
       "      <td>21.46</td>\n",
       "      <td>0.08</td>\n",
       "      <td>Ks</td>\n",
       "      <td>AB</td>\n",
       "      <td>0.009462</td>\n",
       "      <td>0.000697</td>\n",
       "      <td>21.469000</td>\n",
       "    </tr>\n",
       "    <tr>\n",
       "      <th>644</th>\n",
       "      <td>at2017gfo</td>\n",
       "      <td>58007.969000</td>\n",
       "      <td>22.06</td>\n",
       "      <td>0.22</td>\n",
       "      <td>Ks</td>\n",
       "      <td>AB</td>\n",
       "      <td>0.005445</td>\n",
       "      <td>0.001103</td>\n",
       "      <td>25.469000</td>\n",
       "    </tr>\n",
       "  </tbody>\n",
       "</table>\n",
       "<p>620 rows × 9 columns</p>\n",
       "</div>"
      ],
      "text/plain": [
       "         event          time  magnitude  e_magnitude band system  \\\n",
       "0    at2017gfo  57982.981400      17.48         0.02    i     AB   \n",
       "1    at2017gfo  57982.990200      18.26         0.15    H     AB   \n",
       "3    at2017gfo  57982.993000      17.46         0.03    r     AB   \n",
       "4    at2017gfo  57982.999000      18.62         0.05   Ks     AB   \n",
       "5    at2017gfo  57983.000000      17.83         0.15    J     AB   \n",
       "..         ...           ...        ...          ...  ...    ...   \n",
       "640  at2017gfo  58001.988519      20.85         0.13   Ks     AB   \n",
       "641  at2017gfo  58001.989000      21.23         0.37   Ks     AB   \n",
       "642  at2017gfo  58001.992000      23.37         0.48    z     AB   \n",
       "643  at2017gfo  58003.969000      21.46         0.08   Ks     AB   \n",
       "644  at2017gfo  58007.969000      22.06         0.22   Ks     AB   \n",
       "\n",
       "     flux_density(mjy)  flux_density_error  time (days)  \n",
       "0             0.369828            0.006813     0.481400  \n",
       "1             0.180302            0.024911     0.490200  \n",
       "3             0.376704            0.010409     0.493000  \n",
       "4             0.129420            0.005960     0.499000  \n",
       "5             0.267917            0.037016     0.500000  \n",
       "..                 ...                 ...          ...  \n",
       "640           0.016596            0.001987    19.488519  \n",
       "641           0.011695            0.003986    19.489000  \n",
       "642           0.001629            0.000720    19.492000  \n",
       "643           0.009462            0.000697    21.469000  \n",
       "644           0.005445            0.001103    25.469000  \n",
       "\n",
       "[620 rows x 9 columns]"
      ]
     },
     "execution_count": 3,
     "metadata": {},
     "output_type": "execute_result"
    }
   ],
   "source": [
    "kne = 'at2017gfo'\n",
    "\n",
    "data = redback.get_data.get_kilonova_data_from_open_transient_catalog_data(transient=kne)\n",
    "data"
   ]
  },
  {
   "cell_type": "markdown",
   "id": "fd29b6d2",
   "metadata": {
    "slideshow": {
     "slide_type": "slide"
    }
   },
   "source": [
    "### The user is returned the data in a pandas dataframe. The data is also saved in a sensible way. There are two files; the raw data file and the processed data file where we do some basic processing and make it homogenous. Note that the data returned here is a simple pandas dataframe and can be manipulated in arbitrary ways.\n",
    "\n",
    "### For example, let's say I just want to see the i band data"
   ]
  },
  {
   "cell_type": "code",
   "execution_count": 4,
   "id": "e3dd1623",
   "metadata": {
    "slideshow": {
     "slide_type": "subslide"
    }
   },
   "outputs": [
    {
     "data": {
      "text/html": [
       "<div>\n",
       "<style scoped>\n",
       "    .dataframe tbody tr th:only-of-type {\n",
       "        vertical-align: middle;\n",
       "    }\n",
       "\n",
       "    .dataframe tbody tr th {\n",
       "        vertical-align: top;\n",
       "    }\n",
       "\n",
       "    .dataframe thead th {\n",
       "        text-align: right;\n",
       "    }\n",
       "</style>\n",
       "<table border=\"1\" class=\"dataframe\">\n",
       "  <thead>\n",
       "    <tr style=\"text-align: right;\">\n",
       "      <th></th>\n",
       "      <th>event</th>\n",
       "      <th>time</th>\n",
       "      <th>magnitude</th>\n",
       "      <th>e_magnitude</th>\n",
       "      <th>band</th>\n",
       "      <th>system</th>\n",
       "      <th>flux_density(mjy)</th>\n",
       "      <th>flux_density_error</th>\n",
       "      <th>time (days)</th>\n",
       "    </tr>\n",
       "  </thead>\n",
       "  <tbody>\n",
       "    <tr>\n",
       "      <th>0</th>\n",
       "      <td>at2017gfo</td>\n",
       "      <td>57982.981400</td>\n",
       "      <td>17.480000</td>\n",
       "      <td>0.020000</td>\n",
       "      <td>i</td>\n",
       "      <td>AB</td>\n",
       "      <td>0.369828</td>\n",
       "      <td>0.006813</td>\n",
       "      <td>0.481400</td>\n",
       "    </tr>\n",
       "    <tr>\n",
       "      <th>9</th>\n",
       "      <td>at2017gfo</td>\n",
       "      <td>57983.003060</td>\n",
       "      <td>17.480131</td>\n",
       "      <td>0.025298</td>\n",
       "      <td>i</td>\n",
       "      <td>AB</td>\n",
       "      <td>0.369784</td>\n",
       "      <td>0.008617</td>\n",
       "      <td>0.503060</td>\n",
       "    </tr>\n",
       "    <tr>\n",
       "      <th>20</th>\n",
       "      <td>at2017gfo</td>\n",
       "      <td>57983.018251</td>\n",
       "      <td>17.470000</td>\n",
       "      <td>0.020000</td>\n",
       "      <td>i</td>\n",
       "      <td>AB</td>\n",
       "      <td>0.373250</td>\n",
       "      <td>0.006876</td>\n",
       "      <td>0.518251</td>\n",
       "    </tr>\n",
       "    <tr>\n",
       "      <th>27</th>\n",
       "      <td>at2017gfo</td>\n",
       "      <td>57983.050000</td>\n",
       "      <td>16.984000</td>\n",
       "      <td>0.050000</td>\n",
       "      <td>i</td>\n",
       "      <td>AB</td>\n",
       "      <td>0.583983</td>\n",
       "      <td>0.026895</td>\n",
       "      <td>0.550000</td>\n",
       "    </tr>\n",
       "    <tr>\n",
       "      <th>34</th>\n",
       "      <td>at2017gfo</td>\n",
       "      <td>57983.059977</td>\n",
       "      <td>17.510000</td>\n",
       "      <td>0.020000</td>\n",
       "      <td>i</td>\n",
       "      <td>AB</td>\n",
       "      <td>0.359749</td>\n",
       "      <td>0.006627</td>\n",
       "      <td>0.559977</td>\n",
       "    </tr>\n",
       "    <tr>\n",
       "      <th>...</th>\n",
       "      <td>...</td>\n",
       "      <td>...</td>\n",
       "      <td>...</td>\n",
       "      <td>...</td>\n",
       "      <td>...</td>\n",
       "      <td>...</td>\n",
       "      <td>...</td>\n",
       "      <td>...</td>\n",
       "      <td>...</td>\n",
       "    </tr>\n",
       "    <tr>\n",
       "      <th>493</th>\n",
       "      <td>at2017gfo</td>\n",
       "      <td>57989.989700</td>\n",
       "      <td>21.420000</td>\n",
       "      <td>0.180000</td>\n",
       "      <td>i</td>\n",
       "      <td>AB</td>\n",
       "      <td>0.009817</td>\n",
       "      <td>0.001628</td>\n",
       "      <td>7.489700</td>\n",
       "    </tr>\n",
       "    <tr>\n",
       "      <th>498</th>\n",
       "      <td>at2017gfo</td>\n",
       "      <td>57990.038519</td>\n",
       "      <td>20.910000</td>\n",
       "      <td>0.030000</td>\n",
       "      <td>i</td>\n",
       "      <td>AB</td>\n",
       "      <td>0.015704</td>\n",
       "      <td>0.000434</td>\n",
       "      <td>7.538519</td>\n",
       "    </tr>\n",
       "    <tr>\n",
       "      <th>515</th>\n",
       "      <td>at2017gfo</td>\n",
       "      <td>57990.987655</td>\n",
       "      <td>20.723858</td>\n",
       "      <td>0.057474</td>\n",
       "      <td>i</td>\n",
       "      <td>AB</td>\n",
       "      <td>0.018640</td>\n",
       "      <td>0.000987</td>\n",
       "      <td>8.487655</td>\n",
       "    </tr>\n",
       "    <tr>\n",
       "      <th>548</th>\n",
       "      <td>at2017gfo</td>\n",
       "      <td>57991.999670</td>\n",
       "      <td>21.369510</td>\n",
       "      <td>0.056551</td>\n",
       "      <td>i</td>\n",
       "      <td>AB</td>\n",
       "      <td>0.010285</td>\n",
       "      <td>0.000536</td>\n",
       "      <td>9.499670</td>\n",
       "    </tr>\n",
       "    <tr>\n",
       "      <th>571</th>\n",
       "      <td>at2017gfo</td>\n",
       "      <td>57993.000021</td>\n",
       "      <td>22.383880</td>\n",
       "      <td>0.103005</td>\n",
       "      <td>i</td>\n",
       "      <td>AB</td>\n",
       "      <td>0.004041</td>\n",
       "      <td>0.000383</td>\n",
       "      <td>10.500021</td>\n",
       "    </tr>\n",
       "  </tbody>\n",
       "</table>\n",
       "<p>72 rows × 9 columns</p>\n",
       "</div>"
      ],
      "text/plain": [
       "         event          time  magnitude  e_magnitude band system  \\\n",
       "0    at2017gfo  57982.981400  17.480000     0.020000    i     AB   \n",
       "9    at2017gfo  57983.003060  17.480131     0.025298    i     AB   \n",
       "20   at2017gfo  57983.018251  17.470000     0.020000    i     AB   \n",
       "27   at2017gfo  57983.050000  16.984000     0.050000    i     AB   \n",
       "34   at2017gfo  57983.059977  17.510000     0.020000    i     AB   \n",
       "..         ...           ...        ...          ...  ...    ...   \n",
       "493  at2017gfo  57989.989700  21.420000     0.180000    i     AB   \n",
       "498  at2017gfo  57990.038519  20.910000     0.030000    i     AB   \n",
       "515  at2017gfo  57990.987655  20.723858     0.057474    i     AB   \n",
       "548  at2017gfo  57991.999670  21.369510     0.056551    i     AB   \n",
       "571  at2017gfo  57993.000021  22.383880     0.103005    i     AB   \n",
       "\n",
       "     flux_density(mjy)  flux_density_error  time (days)  \n",
       "0             0.369828            0.006813     0.481400  \n",
       "9             0.369784            0.008617     0.503060  \n",
       "20            0.373250            0.006876     0.518251  \n",
       "27            0.583983            0.026895     0.550000  \n",
       "34            0.359749            0.006627     0.559977  \n",
       "..                 ...                 ...          ...  \n",
       "493           0.009817            0.001628     7.489700  \n",
       "498           0.015704            0.000434     7.538519  \n",
       "515           0.018640            0.000987     8.487655  \n",
       "548           0.010285            0.000536     9.499670  \n",
       "571           0.004041            0.000383    10.500021  \n",
       "\n",
       "[72 rows x 9 columns]"
      ]
     },
     "execution_count": 4,
     "metadata": {},
     "output_type": "execute_result"
    }
   ],
   "source": [
    "data[data['band']=='i']"
   ]
  },
  {
   "cell_type": "markdown",
   "id": "dc50a630",
   "metadata": {
    "slideshow": {
     "slide_type": "slide"
    }
   },
   "source": [
    "## Can similarly download data from LASAIR (ZTF/Vera Rubin broker), Afterglows from Swift, Prompt grb from Swift and BATSE.  "
   ]
  },
  {
   "cell_type": "code",
   "execution_count": 4,
   "id": "0eef6a7a",
   "metadata": {
    "slideshow": {
     "slide_type": "subslide"
    }
   },
   "outputs": [
    {
     "name": "stderr",
     "output_type": "stream",
     "text": [
      "You are downloading BAT and XRT data, you will need to truncate the data for some models.\n",
      "The raw data file already exists. Returning.\n",
      "The processed data file already exists. Returning.\n"
     ]
    },
    {
     "data": {
      "text/html": [
       "<div>\n",
       "<style scoped>\n",
       "    .dataframe tbody tr th:only-of-type {\n",
       "        vertical-align: middle;\n",
       "    }\n",
       "\n",
       "    .dataframe tbody tr th {\n",
       "        vertical-align: top;\n",
       "    }\n",
       "\n",
       "    .dataframe thead th {\n",
       "        text-align: right;\n",
       "    }\n",
       "</style>\n",
       "<table border=\"1\" class=\"dataframe\">\n",
       "  <thead>\n",
       "    <tr style=\"text-align: right;\">\n",
       "      <th></th>\n",
       "      <th>Time [s]</th>\n",
       "      <th>Pos. time err [s]</th>\n",
       "      <th>Neg. time err [s]</th>\n",
       "      <th>Flux [erg cm^{-2} s^{-1}]</th>\n",
       "      <th>Pos. flux err [erg cm^{-2} s^{-1}]</th>\n",
       "      <th>Neg. flux err [erg cm^{-2} s^{-1}]</th>\n",
       "      <th>Instrument</th>\n",
       "    </tr>\n",
       "  </thead>\n",
       "  <tbody>\n",
       "    <tr>\n",
       "      <th>0</th>\n",
       "      <td>0.261</td>\n",
       "      <td>0.020</td>\n",
       "      <td>-0.020</td>\n",
       "      <td>8.613514e-08</td>\n",
       "      <td>1.558597e-08</td>\n",
       "      <td>-1.558597e-08</td>\n",
       "      <td>xrtpcflux_nosys_incbad</td>\n",
       "    </tr>\n",
       "    <tr>\n",
       "      <th>1</th>\n",
       "      <td>0.321</td>\n",
       "      <td>0.040</td>\n",
       "      <td>-0.040</td>\n",
       "      <td>7.382776e-08</td>\n",
       "      <td>1.642492e-08</td>\n",
       "      <td>-1.642492e-08</td>\n",
       "      <td>xrtpcflux_nosys_incbad</td>\n",
       "    </tr>\n",
       "    <tr>\n",
       "      <th>2</th>\n",
       "      <td>0.381</td>\n",
       "      <td>0.020</td>\n",
       "      <td>-0.020</td>\n",
       "      <td>1.870569e-07</td>\n",
       "      <td>3.721064e-08</td>\n",
       "      <td>-3.721064e-08</td>\n",
       "      <td>xrtpcflux_nosys_incbad</td>\n",
       "    </tr>\n",
       "    <tr>\n",
       "      <th>3</th>\n",
       "      <td>0.441</td>\n",
       "      <td>0.040</td>\n",
       "      <td>-0.040</td>\n",
       "      <td>1.007180e-07</td>\n",
       "      <td>2.660250e-08</td>\n",
       "      <td>-2.660250e-08</td>\n",
       "      <td>xrtpcflux_nosys_incbad</td>\n",
       "    </tr>\n",
       "    <tr>\n",
       "      <th>4</th>\n",
       "      <td>0.521</td>\n",
       "      <td>0.040</td>\n",
       "      <td>-0.040</td>\n",
       "      <td>7.198857e-08</td>\n",
       "      <td>1.679765e-08</td>\n",
       "      <td>-1.679765e-08</td>\n",
       "      <td>xrtpcflux_nosys_incbad</td>\n",
       "    </tr>\n",
       "    <tr>\n",
       "      <th>5</th>\n",
       "      <td>0.601</td>\n",
       "      <td>0.040</td>\n",
       "      <td>-0.040</td>\n",
       "      <td>5.675140e-08</td>\n",
       "      <td>1.385044e-08</td>\n",
       "      <td>-1.385044e-08</td>\n",
       "      <td>xrtpcflux_nosys_incbad</td>\n",
       "    </tr>\n",
       "    <tr>\n",
       "      <th>6</th>\n",
       "      <td>0.681</td>\n",
       "      <td>0.040</td>\n",
       "      <td>-0.040</td>\n",
       "      <td>1.054867e-07</td>\n",
       "      <td>2.273219e-08</td>\n",
       "      <td>-2.273219e-08</td>\n",
       "      <td>xrtpcflux_nosys_incbad</td>\n",
       "    </tr>\n",
       "    <tr>\n",
       "      <th>7</th>\n",
       "      <td>0.761</td>\n",
       "      <td>0.040</td>\n",
       "      <td>-0.040</td>\n",
       "      <td>1.720537e-07</td>\n",
       "      <td>3.676530e-08</td>\n",
       "      <td>-3.676530e-08</td>\n",
       "      <td>xrtpcflux_nosys_incbad</td>\n",
       "    </tr>\n",
       "    <tr>\n",
       "      <th>8</th>\n",
       "      <td>126.691</td>\n",
       "      <td>99.170</td>\n",
       "      <td>-46.253</td>\n",
       "      <td>1.577628e-11</td>\n",
       "      <td>3.560736e-12</td>\n",
       "      <td>-3.560736e-12</td>\n",
       "      <td>xrtpcflux_nosys_incbad</td>\n",
       "    </tr>\n",
       "    <tr>\n",
       "      <th>9</th>\n",
       "      <td>300.860</td>\n",
       "      <td>108.035</td>\n",
       "      <td>-74.998</td>\n",
       "      <td>6.068367e-12</td>\n",
       "      <td>1.368062e-12</td>\n",
       "      <td>-1.368062e-12</td>\n",
       "      <td>xrtpcflux_nosys_incbad</td>\n",
       "    </tr>\n",
       "    <tr>\n",
       "      <th>10</th>\n",
       "      <td>561.108</td>\n",
       "      <td>88.488</td>\n",
       "      <td>-152.213</td>\n",
       "      <td>3.504504e-12</td>\n",
       "      <td>9.120567e-13</td>\n",
       "      <td>-9.120567e-13</td>\n",
       "      <td>xrtpcflux_nosys_incbad</td>\n",
       "    </tr>\n",
       "    <tr>\n",
       "      <th>11</th>\n",
       "      <td>786.988</td>\n",
       "      <td>201.093</td>\n",
       "      <td>-137.393</td>\n",
       "      <td>2.482613e-12</td>\n",
       "      <td>6.539079e-13</td>\n",
       "      <td>-6.539079e-13</td>\n",
       "      <td>xrtpcflux_nosys_incbad</td>\n",
       "    </tr>\n",
       "    <tr>\n",
       "      <th>12</th>\n",
       "      <td>1116.256</td>\n",
       "      <td>97.482</td>\n",
       "      <td>-128.175</td>\n",
       "      <td>3.733606e-12</td>\n",
       "      <td>9.784906e-13</td>\n",
       "      <td>-9.784906e-13</td>\n",
       "      <td>xrtpcflux_nosys_incbad</td>\n",
       "    </tr>\n",
       "    <tr>\n",
       "      <th>13</th>\n",
       "      <td>1331.625</td>\n",
       "      <td>167.947</td>\n",
       "      <td>-117.886</td>\n",
       "      <td>2.988329e-12</td>\n",
       "      <td>7.823883e-13</td>\n",
       "      <td>-7.823883e-13</td>\n",
       "      <td>xrtpcflux_nosys_incbad</td>\n",
       "    </tr>\n",
       "    <tr>\n",
       "      <th>14</th>\n",
       "      <td>1716.531</td>\n",
       "      <td>241.875</td>\n",
       "      <td>-216.960</td>\n",
       "      <td>2.640154e-12</td>\n",
       "      <td>5.843633e-13</td>\n",
       "      <td>-5.843633e-13</td>\n",
       "      <td>xrtpcflux_nosys_incbad</td>\n",
       "    </tr>\n",
       "    <tr>\n",
       "      <th>15</th>\n",
       "      <td>5484.612</td>\n",
       "      <td>125.895</td>\n",
       "      <td>-162.445</td>\n",
       "      <td>3.422112e-12</td>\n",
       "      <td>8.916328e-13</td>\n",
       "      <td>-8.916328e-13</td>\n",
       "      <td>xrtpcflux_nosys_incbad</td>\n",
       "    </tr>\n",
       "    <tr>\n",
       "      <th>16</th>\n",
       "      <td>5823.950</td>\n",
       "      <td>202.770</td>\n",
       "      <td>-213.442</td>\n",
       "      <td>2.379700e-12</td>\n",
       "      <td>6.232240e-13</td>\n",
       "      <td>-6.232240e-13</td>\n",
       "      <td>xrtpcflux_nosys_incbad</td>\n",
       "    </tr>\n",
       "    <tr>\n",
       "      <th>17</th>\n",
       "      <td>6187.840</td>\n",
       "      <td>114.684</td>\n",
       "      <td>-161.120</td>\n",
       "      <td>3.581788e-12</td>\n",
       "      <td>9.375053e-13</td>\n",
       "      <td>-9.375053e-13</td>\n",
       "      <td>xrtpcflux_nosys_incbad</td>\n",
       "    </tr>\n",
       "    <tr>\n",
       "      <th>18</th>\n",
       "      <td>6503.745</td>\n",
       "      <td>129.744</td>\n",
       "      <td>-201.221</td>\n",
       "      <td>3.144261e-12</td>\n",
       "      <td>7.965964e-13</td>\n",
       "      <td>-7.965964e-13</td>\n",
       "      <td>xrtpcflux_nosys_incbad</td>\n",
       "    </tr>\n",
       "    <tr>\n",
       "      <th>19</th>\n",
       "      <td>7178.898</td>\n",
       "      <td>562.814</td>\n",
       "      <td>-545.409</td>\n",
       "      <td>1.626616e-12</td>\n",
       "      <td>3.145294e-13</td>\n",
       "      <td>-3.145294e-13</td>\n",
       "      <td>xrtpcflux_nosys_incbad</td>\n",
       "    </tr>\n",
       "    <tr>\n",
       "      <th>20</th>\n",
       "      <td>11325.366</td>\n",
       "      <td>274.413</td>\n",
       "      <td>-262.152</td>\n",
       "      <td>1.982825e-12</td>\n",
       "      <td>5.215036e-13</td>\n",
       "      <td>-5.215036e-13</td>\n",
       "      <td>xrtpcflux_nosys_incbad</td>\n",
       "    </tr>\n",
       "    <tr>\n",
       "      <th>21</th>\n",
       "      <td>12008.377</td>\n",
       "      <td>268.375</td>\n",
       "      <td>-408.599</td>\n",
       "      <td>1.584076e-12</td>\n",
       "      <td>4.147487e-13</td>\n",
       "      <td>-4.147487e-13</td>\n",
       "      <td>xrtpcflux_nosys_incbad</td>\n",
       "    </tr>\n",
       "    <tr>\n",
       "      <th>22</th>\n",
       "      <td>12930.058</td>\n",
       "      <td>595.324</td>\n",
       "      <td>-653.306</td>\n",
       "      <td>1.328601e-12</td>\n",
       "      <td>2.834300e-13</td>\n",
       "      <td>-2.834300e-13</td>\n",
       "      <td>xrtpcflux_nosys_incbad</td>\n",
       "    </tr>\n",
       "    <tr>\n",
       "      <th>23</th>\n",
       "      <td>18154.130</td>\n",
       "      <td>1157.181</td>\n",
       "      <td>-1410.373</td>\n",
       "      <td>6.958368e-13</td>\n",
       "      <td>1.507985e-13</td>\n",
       "      <td>-1.507985e-13</td>\n",
       "      <td>xrtpcflux_nosys_incbad</td>\n",
       "    </tr>\n",
       "    <tr>\n",
       "      <th>24</th>\n",
       "      <td>23760.912</td>\n",
       "      <td>825.799</td>\n",
       "      <td>-1207.621</td>\n",
       "      <td>9.554451e-13</td>\n",
       "      <td>1.894794e-13</td>\n",
       "      <td>-1.894794e-13</td>\n",
       "      <td>xrtpcflux_nosys_incbad</td>\n",
       "    </tr>\n",
       "    <tr>\n",
       "      <th>25</th>\n",
       "      <td>67308.905</td>\n",
       "      <td>4057.787</td>\n",
       "      <td>-2947.136</td>\n",
       "      <td>1.888892e-13</td>\n",
       "      <td>8.870827e-14</td>\n",
       "      <td>-6.874819e-14</td>\n",
       "      <td>xrtpcflux_nosys_incbad</td>\n",
       "    </tr>\n",
       "  </tbody>\n",
       "</table>\n",
       "</div>"
      ],
      "text/plain": [
       "     Time [s]  Pos. time err [s]  Neg. time err [s]  \\\n",
       "0       0.261              0.020             -0.020   \n",
       "1       0.321              0.040             -0.040   \n",
       "2       0.381              0.020             -0.020   \n",
       "3       0.441              0.040             -0.040   \n",
       "4       0.521              0.040             -0.040   \n",
       "5       0.601              0.040             -0.040   \n",
       "6       0.681              0.040             -0.040   \n",
       "7       0.761              0.040             -0.040   \n",
       "8     126.691             99.170            -46.253   \n",
       "9     300.860            108.035            -74.998   \n",
       "10    561.108             88.488           -152.213   \n",
       "11    786.988            201.093           -137.393   \n",
       "12   1116.256             97.482           -128.175   \n",
       "13   1331.625            167.947           -117.886   \n",
       "14   1716.531            241.875           -216.960   \n",
       "15   5484.612            125.895           -162.445   \n",
       "16   5823.950            202.770           -213.442   \n",
       "17   6187.840            114.684           -161.120   \n",
       "18   6503.745            129.744           -201.221   \n",
       "19   7178.898            562.814           -545.409   \n",
       "20  11325.366            274.413           -262.152   \n",
       "21  12008.377            268.375           -408.599   \n",
       "22  12930.058            595.324           -653.306   \n",
       "23  18154.130           1157.181          -1410.373   \n",
       "24  23760.912            825.799          -1207.621   \n",
       "25  67308.905           4057.787          -2947.136   \n",
       "\n",
       "    Flux [erg cm^{-2} s^{-1}]  Pos. flux err [erg cm^{-2} s^{-1}]  \\\n",
       "0                8.613514e-08                        1.558597e-08   \n",
       "1                7.382776e-08                        1.642492e-08   \n",
       "2                1.870569e-07                        3.721064e-08   \n",
       "3                1.007180e-07                        2.660250e-08   \n",
       "4                7.198857e-08                        1.679765e-08   \n",
       "5                5.675140e-08                        1.385044e-08   \n",
       "6                1.054867e-07                        2.273219e-08   \n",
       "7                1.720537e-07                        3.676530e-08   \n",
       "8                1.577628e-11                        3.560736e-12   \n",
       "9                6.068367e-12                        1.368062e-12   \n",
       "10               3.504504e-12                        9.120567e-13   \n",
       "11               2.482613e-12                        6.539079e-13   \n",
       "12               3.733606e-12                        9.784906e-13   \n",
       "13               2.988329e-12                        7.823883e-13   \n",
       "14               2.640154e-12                        5.843633e-13   \n",
       "15               3.422112e-12                        8.916328e-13   \n",
       "16               2.379700e-12                        6.232240e-13   \n",
       "17               3.581788e-12                        9.375053e-13   \n",
       "18               3.144261e-12                        7.965964e-13   \n",
       "19               1.626616e-12                        3.145294e-13   \n",
       "20               1.982825e-12                        5.215036e-13   \n",
       "21               1.584076e-12                        4.147487e-13   \n",
       "22               1.328601e-12                        2.834300e-13   \n",
       "23               6.958368e-13                        1.507985e-13   \n",
       "24               9.554451e-13                        1.894794e-13   \n",
       "25               1.888892e-13                        8.870827e-14   \n",
       "\n",
       "    Neg. flux err [erg cm^{-2} s^{-1}]              Instrument  \n",
       "0                        -1.558597e-08  xrtpcflux_nosys_incbad  \n",
       "1                        -1.642492e-08  xrtpcflux_nosys_incbad  \n",
       "2                        -3.721064e-08  xrtpcflux_nosys_incbad  \n",
       "3                        -2.660250e-08  xrtpcflux_nosys_incbad  \n",
       "4                        -1.679765e-08  xrtpcflux_nosys_incbad  \n",
       "5                        -1.385044e-08  xrtpcflux_nosys_incbad  \n",
       "6                        -2.273219e-08  xrtpcflux_nosys_incbad  \n",
       "7                        -3.676530e-08  xrtpcflux_nosys_incbad  \n",
       "8                        -3.560736e-12  xrtpcflux_nosys_incbad  \n",
       "9                        -1.368062e-12  xrtpcflux_nosys_incbad  \n",
       "10                       -9.120567e-13  xrtpcflux_nosys_incbad  \n",
       "11                       -6.539079e-13  xrtpcflux_nosys_incbad  \n",
       "12                       -9.784906e-13  xrtpcflux_nosys_incbad  \n",
       "13                       -7.823883e-13  xrtpcflux_nosys_incbad  \n",
       "14                       -5.843633e-13  xrtpcflux_nosys_incbad  \n",
       "15                       -8.916328e-13  xrtpcflux_nosys_incbad  \n",
       "16                       -6.232240e-13  xrtpcflux_nosys_incbad  \n",
       "17                       -9.375053e-13  xrtpcflux_nosys_incbad  \n",
       "18                       -7.965964e-13  xrtpcflux_nosys_incbad  \n",
       "19                       -3.145294e-13  xrtpcflux_nosys_incbad  \n",
       "20                       -5.215036e-13  xrtpcflux_nosys_incbad  \n",
       "21                       -4.147487e-13  xrtpcflux_nosys_incbad  \n",
       "22                       -2.834300e-13  xrtpcflux_nosys_incbad  \n",
       "23                       -1.507985e-13  xrtpcflux_nosys_incbad  \n",
       "24                       -1.894794e-13  xrtpcflux_nosys_incbad  \n",
       "25                       -6.874819e-14  xrtpcflux_nosys_incbad  "
      ]
     },
     "execution_count": 4,
     "metadata": {},
     "output_type": "execute_result"
    }
   ],
   "source": [
    "GRB = '070809'\n",
    "# Flux density, flux data\n",
    "data = redback.get_data.get_bat_xrt_afterglow_data_from_swift(grb=GRB, data_mode=\"flux\")\n",
    "data"
   ]
  },
  {
   "cell_type": "code",
   "execution_count": 5,
   "id": "d91aa879",
   "metadata": {
    "slideshow": {
     "slide_type": "slide"
    }
   },
   "outputs": [
    {
     "name": "stderr",
     "output_type": "stream",
     "text": [
      "The raw data file already exists.\n",
      "The processed data file already exists. Returning.\n"
     ]
    },
    {
     "data": {
      "text/html": [
       "<div>\n",
       "<style scoped>\n",
       "    .dataframe tbody tr th:only-of-type {\n",
       "        vertical-align: middle;\n",
       "    }\n",
       "\n",
       "    .dataframe tbody tr th {\n",
       "        vertical-align: top;\n",
       "    }\n",
       "\n",
       "    .dataframe thead th {\n",
       "        text-align: right;\n",
       "    }\n",
       "</style>\n",
       "<table border=\"1\" class=\"dataframe\">\n",
       "  <thead>\n",
       "    <tr style=\"text-align: right;\">\n",
       "      <th></th>\n",
       "      <th>event</th>\n",
       "      <th>time</th>\n",
       "      <th>magnitude</th>\n",
       "      <th>e_magnitude</th>\n",
       "      <th>band</th>\n",
       "      <th>system</th>\n",
       "      <th>flux_density(mjy)</th>\n",
       "      <th>flux_density_error</th>\n",
       "      <th>time (days)</th>\n",
       "    </tr>\n",
       "  </thead>\n",
       "  <tbody>\n",
       "    <tr>\n",
       "      <th>0</th>\n",
       "      <td>SN2011kl</td>\n",
       "      <td>54357.753356</td>\n",
       "      <td>18.31</td>\n",
       "      <td>0.12</td>\n",
       "      <td>H</td>\n",
       "      <td>AB</td>\n",
       "      <td>0.172187</td>\n",
       "      <td>0.019032</td>\n",
       "      <td>0.000000</td>\n",
       "    </tr>\n",
       "    <tr>\n",
       "      <th>1</th>\n",
       "      <td>SN2011kl</td>\n",
       "      <td>54357.753356</td>\n",
       "      <td>18.72</td>\n",
       "      <td>0.12</td>\n",
       "      <td>J</td>\n",
       "      <td>AB</td>\n",
       "      <td>0.118032</td>\n",
       "      <td>0.013046</td>\n",
       "      <td>0.000000</td>\n",
       "    </tr>\n",
       "    <tr>\n",
       "      <th>2</th>\n",
       "      <td>SN2011kl</td>\n",
       "      <td>54357.753356</td>\n",
       "      <td>17.84</td>\n",
       "      <td>0.15</td>\n",
       "      <td>Ks</td>\n",
       "      <td>AB</td>\n",
       "      <td>0.265461</td>\n",
       "      <td>0.036677</td>\n",
       "      <td>0.000000</td>\n",
       "    </tr>\n",
       "    <tr>\n",
       "      <th>3</th>\n",
       "      <td>SN2011kl</td>\n",
       "      <td>54357.753356</td>\n",
       "      <td>20.05</td>\n",
       "      <td>0.05</td>\n",
       "      <td>g</td>\n",
       "      <td>AB</td>\n",
       "      <td>0.034674</td>\n",
       "      <td>0.001597</td>\n",
       "      <td>0.000000</td>\n",
       "    </tr>\n",
       "    <tr>\n",
       "      <th>4</th>\n",
       "      <td>SN2011kl</td>\n",
       "      <td>54357.753356</td>\n",
       "      <td>19.36</td>\n",
       "      <td>0.03</td>\n",
       "      <td>i</td>\n",
       "      <td>AB</td>\n",
       "      <td>0.065464</td>\n",
       "      <td>0.001809</td>\n",
       "      <td>0.000000</td>\n",
       "    </tr>\n",
       "    <tr>\n",
       "      <th>...</th>\n",
       "      <td>...</td>\n",
       "      <td>...</td>\n",
       "      <td>...</td>\n",
       "      <td>...</td>\n",
       "      <td>...</td>\n",
       "      <td>...</td>\n",
       "      <td>...</td>\n",
       "      <td>...</td>\n",
       "      <td>...</td>\n",
       "    </tr>\n",
       "    <tr>\n",
       "      <th>118</th>\n",
       "      <td>SN2011kl</td>\n",
       "      <td>54428.243981</td>\n",
       "      <td>23.47</td>\n",
       "      <td>0.44</td>\n",
       "      <td>z</td>\n",
       "      <td>AB</td>\n",
       "      <td>0.001486</td>\n",
       "      <td>0.000602</td>\n",
       "      <td>70.490625</td>\n",
       "    </tr>\n",
       "    <tr>\n",
       "      <th>119</th>\n",
       "      <td>SN2011kl</td>\n",
       "      <td>54636.989120</td>\n",
       "      <td>25.66</td>\n",
       "      <td>0.31</td>\n",
       "      <td>g</td>\n",
       "      <td>AB</td>\n",
       "      <td>0.000198</td>\n",
       "      <td>0.000056</td>\n",
       "      <td>279.235764</td>\n",
       "    </tr>\n",
       "    <tr>\n",
       "      <th>120</th>\n",
       "      <td>SN2011kl</td>\n",
       "      <td>54636.989120</td>\n",
       "      <td>24.36</td>\n",
       "      <td>0.22</td>\n",
       "      <td>i</td>\n",
       "      <td>AB</td>\n",
       "      <td>0.000655</td>\n",
       "      <td>0.000133</td>\n",
       "      <td>279.235764</td>\n",
       "    </tr>\n",
       "    <tr>\n",
       "      <th>121</th>\n",
       "      <td>SN2011kl</td>\n",
       "      <td>54636.989120</td>\n",
       "      <td>25.04</td>\n",
       "      <td>0.18</td>\n",
       "      <td>r</td>\n",
       "      <td>AB</td>\n",
       "      <td>0.000350</td>\n",
       "      <td>0.000058</td>\n",
       "      <td>279.235764</td>\n",
       "    </tr>\n",
       "    <tr>\n",
       "      <th>122</th>\n",
       "      <td>SN2011kl</td>\n",
       "      <td>54636.989120</td>\n",
       "      <td>24.02</td>\n",
       "      <td>0.28</td>\n",
       "      <td>z</td>\n",
       "      <td>AB</td>\n",
       "      <td>0.000895</td>\n",
       "      <td>0.000231</td>\n",
       "      <td>279.235764</td>\n",
       "    </tr>\n",
       "  </tbody>\n",
       "</table>\n",
       "<p>123 rows × 9 columns</p>\n",
       "</div>"
      ],
      "text/plain": [
       "        event          time  magnitude  e_magnitude band system  \\\n",
       "0    SN2011kl  54357.753356      18.31         0.12    H     AB   \n",
       "1    SN2011kl  54357.753356      18.72         0.12    J     AB   \n",
       "2    SN2011kl  54357.753356      17.84         0.15   Ks     AB   \n",
       "3    SN2011kl  54357.753356      20.05         0.05    g     AB   \n",
       "4    SN2011kl  54357.753356      19.36         0.03    i     AB   \n",
       "..        ...           ...        ...          ...  ...    ...   \n",
       "118  SN2011kl  54428.243981      23.47         0.44    z     AB   \n",
       "119  SN2011kl  54636.989120      25.66         0.31    g     AB   \n",
       "120  SN2011kl  54636.989120      24.36         0.22    i     AB   \n",
       "121  SN2011kl  54636.989120      25.04         0.18    r     AB   \n",
       "122  SN2011kl  54636.989120      24.02         0.28    z     AB   \n",
       "\n",
       "     flux_density(mjy)  flux_density_error  time (days)  \n",
       "0             0.172187            0.019032     0.000000  \n",
       "1             0.118032            0.013046     0.000000  \n",
       "2             0.265461            0.036677     0.000000  \n",
       "3             0.034674            0.001597     0.000000  \n",
       "4             0.065464            0.001809     0.000000  \n",
       "..                 ...                 ...          ...  \n",
       "118           0.001486            0.000602    70.490625  \n",
       "119           0.000198            0.000056   279.235764  \n",
       "120           0.000655            0.000133   279.235764  \n",
       "121           0.000350            0.000058   279.235764  \n",
       "122           0.000895            0.000231   279.235764  \n",
       "\n",
       "[123 rows x 9 columns]"
      ]
     },
     "execution_count": 5,
     "metadata": {},
     "output_type": "execute_result"
    }
   ],
   "source": [
    "sne = \"SN2011kl\"\n",
    "data = redback.get_data.get_supernova_data_from_open_transient_catalog_data(sne)\n",
    "data"
   ]
  },
  {
   "cell_type": "code",
   "execution_count": 6,
   "id": "d5383937",
   "metadata": {
    "slideshow": {
     "slide_type": "slide"
    }
   },
   "outputs": [
    {
     "name": "stderr",
     "output_type": "stream",
     "text": [
      "The raw data file already exists.\n",
      "The processed data file already exists. Returning.\n"
     ]
    },
    {
     "data": {
      "text/html": [
       "<div>\n",
       "<style scoped>\n",
       "    .dataframe tbody tr th:only-of-type {\n",
       "        vertical-align: middle;\n",
       "    }\n",
       "\n",
       "    .dataframe tbody tr th {\n",
       "        vertical-align: top;\n",
       "    }\n",
       "\n",
       "    .dataframe thead th {\n",
       "        text-align: right;\n",
       "    }\n",
       "</style>\n",
       "<table border=\"1\" class=\"dataframe\">\n",
       "  <thead>\n",
       "    <tr style=\"text-align: right;\">\n",
       "      <th></th>\n",
       "      <th>time</th>\n",
       "      <th>magnitude</th>\n",
       "      <th>e_magnitude</th>\n",
       "      <th>band</th>\n",
       "      <th>flux_density(mjy)</th>\n",
       "      <th>flux_density_error</th>\n",
       "      <th>time (days)</th>\n",
       "    </tr>\n",
       "  </thead>\n",
       "  <tbody>\n",
       "    <tr>\n",
       "      <th>0</th>\n",
       "      <td>58511.379282</td>\n",
       "      <td>20.1238</td>\n",
       "      <td>0.238753</td>\n",
       "      <td>r</td>\n",
       "      <td>0.032395</td>\n",
       "      <td>0.007124</td>\n",
       "      <td>0.000000</td>\n",
       "    </tr>\n",
       "    <tr>\n",
       "      <th>1</th>\n",
       "      <td>58513.429884</td>\n",
       "      <td>17.8449</td>\n",
       "      <td>0.111725</td>\n",
       "      <td>r</td>\n",
       "      <td>0.264265</td>\n",
       "      <td>0.027195</td>\n",
       "      <td>2.050602</td>\n",
       "    </tr>\n",
       "    <tr>\n",
       "      <th>2</th>\n",
       "      <td>58514.403623</td>\n",
       "      <td>17.7599</td>\n",
       "      <td>0.187180</td>\n",
       "      <td>r</td>\n",
       "      <td>0.285785</td>\n",
       "      <td>0.049272</td>\n",
       "      <td>3.024340</td>\n",
       "    </tr>\n",
       "    <tr>\n",
       "      <th>3</th>\n",
       "      <td>58514.458171</td>\n",
       "      <td>17.8309</td>\n",
       "      <td>0.152969</td>\n",
       "      <td>g</td>\n",
       "      <td>0.267695</td>\n",
       "      <td>0.037718</td>\n",
       "      <td>3.078889</td>\n",
       "    </tr>\n",
       "    <tr>\n",
       "      <th>4</th>\n",
       "      <td>58523.421493</td>\n",
       "      <td>17.6360</td>\n",
       "      <td>0.230755</td>\n",
       "      <td>g</td>\n",
       "      <td>0.320332</td>\n",
       "      <td>0.068085</td>\n",
       "      <td>12.042211</td>\n",
       "    </tr>\n",
       "    <tr>\n",
       "      <th>5</th>\n",
       "      <td>58526.420324</td>\n",
       "      <td>18.0979</td>\n",
       "      <td>0.091385</td>\n",
       "      <td>g</td>\n",
       "      <td>0.209334</td>\n",
       "      <td>0.017620</td>\n",
       "      <td>15.041042</td>\n",
       "    </tr>\n",
       "    <tr>\n",
       "      <th>6</th>\n",
       "      <td>58538.247049</td>\n",
       "      <td>17.5187</td>\n",
       "      <td>0.106131</td>\n",
       "      <td>r</td>\n",
       "      <td>0.356878</td>\n",
       "      <td>0.034887</td>\n",
       "      <td>26.867766</td>\n",
       "    </tr>\n",
       "    <tr>\n",
       "      <th>7</th>\n",
       "      <td>58538.294815</td>\n",
       "      <td>18.1972</td>\n",
       "      <td>0.154764</td>\n",
       "      <td>g</td>\n",
       "      <td>0.191038</td>\n",
       "      <td>0.027233</td>\n",
       "      <td>26.915532</td>\n",
       "    </tr>\n",
       "    <tr>\n",
       "      <th>8</th>\n",
       "      <td>58543.264074</td>\n",
       "      <td>17.5423</td>\n",
       "      <td>0.081820</td>\n",
       "      <td>r</td>\n",
       "      <td>0.349205</td>\n",
       "      <td>0.026317</td>\n",
       "      <td>31.884792</td>\n",
       "    </tr>\n",
       "    <tr>\n",
       "      <th>9</th>\n",
       "      <td>58543.278565</td>\n",
       "      <td>18.0410</td>\n",
       "      <td>0.166502</td>\n",
       "      <td>g</td>\n",
       "      <td>0.220597</td>\n",
       "      <td>0.033832</td>\n",
       "      <td>31.899282</td>\n",
       "    </tr>\n",
       "    <tr>\n",
       "      <th>10</th>\n",
       "      <td>58556.274248</td>\n",
       "      <td>17.7785</td>\n",
       "      <td>0.049136</td>\n",
       "      <td>r</td>\n",
       "      <td>0.280931</td>\n",
       "      <td>0.012715</td>\n",
       "      <td>44.894965</td>\n",
       "    </tr>\n",
       "    <tr>\n",
       "      <th>11</th>\n",
       "      <td>58556.371227</td>\n",
       "      <td>18.5219</td>\n",
       "      <td>0.117713</td>\n",
       "      <td>g</td>\n",
       "      <td>0.141658</td>\n",
       "      <td>0.015359</td>\n",
       "      <td>44.991944</td>\n",
       "    </tr>\n",
       "    <tr>\n",
       "      <th>12</th>\n",
       "      <td>58559.231076</td>\n",
       "      <td>17.8427</td>\n",
       "      <td>0.066161</td>\n",
       "      <td>r</td>\n",
       "      <td>0.264801</td>\n",
       "      <td>0.016137</td>\n",
       "      <td>47.851794</td>\n",
       "    </tr>\n",
       "    <tr>\n",
       "      <th>13</th>\n",
       "      <td>58567.232917</td>\n",
       "      <td>18.0641</td>\n",
       "      <td>0.055061</td>\n",
       "      <td>r</td>\n",
       "      <td>0.215953</td>\n",
       "      <td>0.010952</td>\n",
       "      <td>55.853634</td>\n",
       "    </tr>\n",
       "    <tr>\n",
       "      <th>14</th>\n",
       "      <td>58567.272176</td>\n",
       "      <td>18.8617</td>\n",
       "      <td>0.108420</td>\n",
       "      <td>g</td>\n",
       "      <td>0.103591</td>\n",
       "      <td>0.010345</td>\n",
       "      <td>55.892894</td>\n",
       "    </tr>\n",
       "    <tr>\n",
       "      <th>15</th>\n",
       "      <td>58572.253947</td>\n",
       "      <td>19.0648</td>\n",
       "      <td>0.152984</td>\n",
       "      <td>g</td>\n",
       "      <td>0.085917</td>\n",
       "      <td>0.012107</td>\n",
       "      <td>60.874664</td>\n",
       "    </tr>\n",
       "    <tr>\n",
       "      <th>16</th>\n",
       "      <td>58572.275266</td>\n",
       "      <td>18.1076</td>\n",
       "      <td>0.091116</td>\n",
       "      <td>r</td>\n",
       "      <td>0.207472</td>\n",
       "      <td>0.017412</td>\n",
       "      <td>60.895984</td>\n",
       "    </tr>\n",
       "    <tr>\n",
       "      <th>17</th>\n",
       "      <td>58575.231099</td>\n",
       "      <td>18.0303</td>\n",
       "      <td>0.123152</td>\n",
       "      <td>r</td>\n",
       "      <td>0.222782</td>\n",
       "      <td>0.025271</td>\n",
       "      <td>63.851817</td>\n",
       "    </tr>\n",
       "    <tr>\n",
       "      <th>18</th>\n",
       "      <td>58575.251968</td>\n",
       "      <td>19.0141</td>\n",
       "      <td>0.129163</td>\n",
       "      <td>g</td>\n",
       "      <td>0.090024</td>\n",
       "      <td>0.010710</td>\n",
       "      <td>63.872685</td>\n",
       "    </tr>\n",
       "    <tr>\n",
       "      <th>19</th>\n",
       "      <td>58580.229259</td>\n",
       "      <td>18.3355</td>\n",
       "      <td>0.064782</td>\n",
       "      <td>r</td>\n",
       "      <td>0.168190</td>\n",
       "      <td>0.010036</td>\n",
       "      <td>68.849977</td>\n",
       "    </tr>\n",
       "    <tr>\n",
       "      <th>20</th>\n",
       "      <td>58580.231296</td>\n",
       "      <td>19.3001</td>\n",
       "      <td>0.124423</td>\n",
       "      <td>g</td>\n",
       "      <td>0.069177</td>\n",
       "      <td>0.007928</td>\n",
       "      <td>68.852014</td>\n",
       "    </tr>\n",
       "    <tr>\n",
       "      <th>21</th>\n",
       "      <td>58583.258252</td>\n",
       "      <td>18.3026</td>\n",
       "      <td>0.064437</td>\n",
       "      <td>r</td>\n",
       "      <td>0.173364</td>\n",
       "      <td>0.010290</td>\n",
       "      <td>71.878970</td>\n",
       "    </tr>\n",
       "    <tr>\n",
       "      <th>22</th>\n",
       "      <td>58586.212095</td>\n",
       "      <td>18.3852</td>\n",
       "      <td>0.077057</td>\n",
       "      <td>r</td>\n",
       "      <td>0.160665</td>\n",
       "      <td>0.011403</td>\n",
       "      <td>74.832813</td>\n",
       "    </tr>\n",
       "    <tr>\n",
       "      <th>23</th>\n",
       "      <td>58594.316076</td>\n",
       "      <td>18.5702</td>\n",
       "      <td>0.151573</td>\n",
       "      <td>r</td>\n",
       "      <td>0.135494</td>\n",
       "      <td>0.018917</td>\n",
       "      <td>82.936794</td>\n",
       "    </tr>\n",
       "    <tr>\n",
       "      <th>24</th>\n",
       "      <td>58598.184294</td>\n",
       "      <td>18.5965</td>\n",
       "      <td>0.066303</td>\n",
       "      <td>r</td>\n",
       "      <td>0.132251</td>\n",
       "      <td>0.008077</td>\n",
       "      <td>86.805012</td>\n",
       "    </tr>\n",
       "    <tr>\n",
       "      <th>25</th>\n",
       "      <td>58598.231551</td>\n",
       "      <td>19.6552</td>\n",
       "      <td>0.143481</td>\n",
       "      <td>g</td>\n",
       "      <td>0.049879</td>\n",
       "      <td>0.006592</td>\n",
       "      <td>86.852268</td>\n",
       "    </tr>\n",
       "    <tr>\n",
       "      <th>26</th>\n",
       "      <td>58601.227720</td>\n",
       "      <td>19.7661</td>\n",
       "      <td>0.180708</td>\n",
       "      <td>g</td>\n",
       "      <td>0.045036</td>\n",
       "      <td>0.007496</td>\n",
       "      <td>89.848438</td>\n",
       "    </tr>\n",
       "    <tr>\n",
       "      <th>27</th>\n",
       "      <td>58601.255741</td>\n",
       "      <td>18.7469</td>\n",
       "      <td>0.088288</td>\n",
       "      <td>r</td>\n",
       "      <td>0.115144</td>\n",
       "      <td>0.009364</td>\n",
       "      <td>89.876458</td>\n",
       "    </tr>\n",
       "    <tr>\n",
       "      <th>28</th>\n",
       "      <td>58605.233391</td>\n",
       "      <td>19.8443</td>\n",
       "      <td>0.219971</td>\n",
       "      <td>g</td>\n",
       "      <td>0.041906</td>\n",
       "      <td>0.008491</td>\n",
       "      <td>93.854109</td>\n",
       "    </tr>\n",
       "    <tr>\n",
       "      <th>29</th>\n",
       "      <td>58608.213669</td>\n",
       "      <td>18.8795</td>\n",
       "      <td>0.100102</td>\n",
       "      <td>r</td>\n",
       "      <td>0.101906</td>\n",
       "      <td>0.009396</td>\n",
       "      <td>96.834387</td>\n",
       "    </tr>\n",
       "    <tr>\n",
       "      <th>30</th>\n",
       "      <td>58634.169340</td>\n",
       "      <td>19.2203</td>\n",
       "      <td>0.119122</td>\n",
       "      <td>r</td>\n",
       "      <td>0.074453</td>\n",
       "      <td>0.008169</td>\n",
       "      <td>122.790058</td>\n",
       "    </tr>\n",
       "    <tr>\n",
       "      <th>31</th>\n",
       "      <td>58634.193021</td>\n",
       "      <td>20.2352</td>\n",
       "      <td>0.208704</td>\n",
       "      <td>g</td>\n",
       "      <td>0.029236</td>\n",
       "      <td>0.005620</td>\n",
       "      <td>122.813738</td>\n",
       "    </tr>\n",
       "    <tr>\n",
       "      <th>32</th>\n",
       "      <td>58637.179988</td>\n",
       "      <td>19.2558</td>\n",
       "      <td>0.111148</td>\n",
       "      <td>r</td>\n",
       "      <td>0.072058</td>\n",
       "      <td>0.007377</td>\n",
       "      <td>125.800706</td>\n",
       "    </tr>\n",
       "    <tr>\n",
       "      <th>33</th>\n",
       "      <td>58637.216794</td>\n",
       "      <td>20.2536</td>\n",
       "      <td>0.266376</td>\n",
       "      <td>g</td>\n",
       "      <td>0.028745</td>\n",
       "      <td>0.007053</td>\n",
       "      <td>125.837512</td>\n",
       "    </tr>\n",
       "    <tr>\n",
       "      <th>34</th>\n",
       "      <td>58640.219688</td>\n",
       "      <td>19.1902</td>\n",
       "      <td>0.142179</td>\n",
       "      <td>r</td>\n",
       "      <td>0.076546</td>\n",
       "      <td>0.010024</td>\n",
       "      <td>128.840405</td>\n",
       "    </tr>\n",
       "  </tbody>\n",
       "</table>\n",
       "</div>"
      ],
      "text/plain": [
       "            time  magnitude  e_magnitude band  flux_density(mjy)  \\\n",
       "0   58511.379282    20.1238     0.238753    r           0.032395   \n",
       "1   58513.429884    17.8449     0.111725    r           0.264265   \n",
       "2   58514.403623    17.7599     0.187180    r           0.285785   \n",
       "3   58514.458171    17.8309     0.152969    g           0.267695   \n",
       "4   58523.421493    17.6360     0.230755    g           0.320332   \n",
       "5   58526.420324    18.0979     0.091385    g           0.209334   \n",
       "6   58538.247049    17.5187     0.106131    r           0.356878   \n",
       "7   58538.294815    18.1972     0.154764    g           0.191038   \n",
       "8   58543.264074    17.5423     0.081820    r           0.349205   \n",
       "9   58543.278565    18.0410     0.166502    g           0.220597   \n",
       "10  58556.274248    17.7785     0.049136    r           0.280931   \n",
       "11  58556.371227    18.5219     0.117713    g           0.141658   \n",
       "12  58559.231076    17.8427     0.066161    r           0.264801   \n",
       "13  58567.232917    18.0641     0.055061    r           0.215953   \n",
       "14  58567.272176    18.8617     0.108420    g           0.103591   \n",
       "15  58572.253947    19.0648     0.152984    g           0.085917   \n",
       "16  58572.275266    18.1076     0.091116    r           0.207472   \n",
       "17  58575.231099    18.0303     0.123152    r           0.222782   \n",
       "18  58575.251968    19.0141     0.129163    g           0.090024   \n",
       "19  58580.229259    18.3355     0.064782    r           0.168190   \n",
       "20  58580.231296    19.3001     0.124423    g           0.069177   \n",
       "21  58583.258252    18.3026     0.064437    r           0.173364   \n",
       "22  58586.212095    18.3852     0.077057    r           0.160665   \n",
       "23  58594.316076    18.5702     0.151573    r           0.135494   \n",
       "24  58598.184294    18.5965     0.066303    r           0.132251   \n",
       "25  58598.231551    19.6552     0.143481    g           0.049879   \n",
       "26  58601.227720    19.7661     0.180708    g           0.045036   \n",
       "27  58601.255741    18.7469     0.088288    r           0.115144   \n",
       "28  58605.233391    19.8443     0.219971    g           0.041906   \n",
       "29  58608.213669    18.8795     0.100102    r           0.101906   \n",
       "30  58634.169340    19.2203     0.119122    r           0.074453   \n",
       "31  58634.193021    20.2352     0.208704    g           0.029236   \n",
       "32  58637.179988    19.2558     0.111148    r           0.072058   \n",
       "33  58637.216794    20.2536     0.266376    g           0.028745   \n",
       "34  58640.219688    19.1902     0.142179    r           0.076546   \n",
       "\n",
       "    flux_density_error  time (days)  \n",
       "0             0.007124     0.000000  \n",
       "1             0.027195     2.050602  \n",
       "2             0.049272     3.024340  \n",
       "3             0.037718     3.078889  \n",
       "4             0.068085    12.042211  \n",
       "5             0.017620    15.041042  \n",
       "6             0.034887    26.867766  \n",
       "7             0.027233    26.915532  \n",
       "8             0.026317    31.884792  \n",
       "9             0.033832    31.899282  \n",
       "10            0.012715    44.894965  \n",
       "11            0.015359    44.991944  \n",
       "12            0.016137    47.851794  \n",
       "13            0.010952    55.853634  \n",
       "14            0.010345    55.892894  \n",
       "15            0.012107    60.874664  \n",
       "16            0.017412    60.895984  \n",
       "17            0.025271    63.851817  \n",
       "18            0.010710    63.872685  \n",
       "19            0.010036    68.849977  \n",
       "20            0.007928    68.852014  \n",
       "21            0.010290    71.878970  \n",
       "22            0.011403    74.832813  \n",
       "23            0.018917    82.936794  \n",
       "24            0.008077    86.805012  \n",
       "25            0.006592    86.852268  \n",
       "26            0.007496    89.848438  \n",
       "27            0.009364    89.876458  \n",
       "28            0.008491    93.854109  \n",
       "29            0.009396    96.834387  \n",
       "30            0.008169   122.790058  \n",
       "31            0.005620   122.813738  \n",
       "32            0.007377   125.800706  \n",
       "33            0.007053   125.837512  \n",
       "34            0.010024   128.840405  "
      ]
     },
     "execution_count": 6,
     "metadata": {},
     "output_type": "execute_result"
    }
   ],
   "source": [
    "data = redback.get_data.get_lasair_data(transient=\"ZTF19aagqkrq\", transient_type=\"afterglow\")\n",
    "data"
   ]
  },
  {
   "cell_type": "markdown",
   "id": "e5c1a187",
   "metadata": {
    "slideshow": {
     "slide_type": "slide"
    }
   },
   "source": [
    "# Since this data is just a simple dataframe, you could play around with it yourself to create plots etc. However, we provide functionality to load this data into a 'transient' object. Providing methods for plotting and other functionality. \n",
    "\n",
    "## There are 7 different types of transient objects implemented in redback, which all have unique functionality for the specific type of transient. \n",
    "\n",
    "### There are two parent classes\n",
    "\n",
    "- Transient: For any type of generic transient\n",
    "- OpticalTransient: For any type of generic optical transient\n",
    "\n",
    "### Five more targeted transient classes\n",
    "\n",
    "- SGRB\n",
    "- LGRB\n",
    "- Supernova \n",
    "- Kilonova\n",
    "- Tidal disruption event\n",
    "- Prompt \n",
    "\n",
    "### These classes come with lots of functionality and lookup tables which provide metadata useful for further analysis, such as redshift, T90, start time, etc. They also allow other processing such as converting flux to luminosity. \n",
    "\n",
    "### For each of the transients we have different data_modes which determines what data to fit, plot labels, type of likelihood to use etc. We note that the latter two can be changed by users if desired.\n",
    "\n",
    "- luminosity, flux, flux_density, magnitude, counts, time tagged events"
   ]
  },
  {
   "cell_type": "markdown",
   "id": "ba7dc547",
   "metadata": {
    "slideshow": {
     "slide_type": "slide"
    }
   },
   "source": [
    "## Creating a kilonova object for at2017gfo"
   ]
  },
  {
   "cell_type": "code",
   "execution_count": 7,
   "id": "710440b5",
   "metadata": {
    "slideshow": {
     "slide_type": "subslide"
    }
   },
   "outputs": [
    {
     "data": {
      "image/png": "[encoded data removed]",
      "text/plain": [
       "<Figure size 432x288 with 1 Axes>"
      ]
     },
     "metadata": {
      "needs_background": "light"
     },
     "output_type": "display_data"
    },
    {
     "data": {
      "text/plain": [
       "<AxesSubplot:xlabel='Time since burst [days]', ylabel='Flux density [mJy]'>"
      ]
     },
     "execution_count": 7,
     "metadata": {},
     "output_type": "execute_result"
    }
   ],
   "source": [
    "kne = 'at2017gfo'\n",
    "kilonova = redback.kilonova.Kilonova.from_open_access_catalogue(\n",
    "    name=kne, data_mode=\"flux_density\", active_bands=np.array([\"g\", \"i\"]))\n",
    "kilonova.plot_data(save=False, plot_others=False)"
   ]
  },
  {
   "cell_type": "markdown",
   "id": "a78ee0d5",
   "metadata": {
    "slideshow": {
     "slide_type": "subslide"
    }
   },
   "source": [
    "### Here we created the kilonova transient object using the open access catalogue data, with the `data mode == 'flux_density'`. \n",
    "\n",
    "### Here we have also specified `active_bands=np.array(['g', 'i')`, which sets the rest of the data to be inactive, i.e., not used in the fitting. All bands/frequencies are active by default."
   ]
  },
  {
   "cell_type": "markdown",
   "id": "e7e5ace8",
   "metadata": {
    "slideshow": {
     "slide_type": "slide"
    }
   },
   "source": [
    "### The function returns the axes so user can change the ylim etc from the default themselves as they would for any other matplotlib plot. Or pass it into the function as a keyword argument"
   ]
  },
  {
   "cell_type": "code",
   "execution_count": 8,
   "id": "2894fe68",
   "metadata": {
    "slideshow": {
     "slide_type": "subslide"
    }
   },
   "outputs": [
    {
     "data": {
      "image/png": "[encoded data removed]",
      "text/plain": [
       "<Figure size 432x288 with 1 Axes>"
      ]
     },
     "metadata": {
      "needs_background": "light"
     },
     "output_type": "display_data"
    }
   ],
   "source": [
    "kilonova = redback.kilonova.Kilonova.from_open_access_catalogue(\n",
    "    name=kne, data_mode=\"magnitude\", active_bands=np.array([\"g\", \"i\", \"r\", \"z\"]))\n",
    "ax = kilonova.plot_data(save=False, show=False, plot_others=True)\n",
    "ax.set_ylim(25,16)\n",
    "plt.show()"
   ]
  },
  {
   "cell_type": "code",
   "execution_count": 9,
   "id": "59c545fe",
   "metadata": {
    "slideshow": {
     "slide_type": "subslide"
    }
   },
   "outputs": [
    {
     "data": {
      "image/png": "[encoded data removed]",
      "text/plain": [
       "<Figure size 432x288 with 1 Axes>"
      ]
     },
     "metadata": {
      "needs_background": "light"
     },
     "output_type": "display_data"
    }
   ],
   "source": [
    "kilonova = redback.kilonova.Kilonova.from_open_access_catalogue(\n",
    "    name=kne, data_mode=\"magnitude\", active_bands=np.array([\"g\", \"i\", \"r\", \"z\"]))\n",
    "ax = kilonova.plot_data(save=False, show=False, plot_others=False, xlim_high=10)"
   ]
  },
  {
   "cell_type": "markdown",
   "id": "512f5dfd",
   "metadata": {
    "slideshow": {
     "slide_type": "slide"
    }
   },
   "source": [
    "### Many other plotting aesthetic things can just be passed into the function. \n",
    "\n",
    "### We also provide a simple plot_multiband method. Which will plot one band per panel."
   ]
  },
  {
   "cell_type": "code",
   "execution_count": 10,
   "id": "83ab427c",
   "metadata": {
    "slideshow": {
     "slide_type": "subslide"
    }
   },
   "outputs": [
    {
     "data": {
      "image/png": "[encoded data removed]",
      "text/plain": [
       "<Figure size 864x576 with 6 Axes>"
      ]
     },
     "metadata": {
      "needs_background": "light"
     },
     "output_type": "display_data"
    }
   ],
   "source": [
    "fig, axes = plt.subplots(3, 2, sharex=True, sharey=True, figsize=(12, 8))\n",
    "ax = kilonova.plot_multiband(figure=fig, axes=axes,\n",
    "                        filters=[\"g\", \"r\", \"i\", \"z\", \"y\", \"J\"], save=False)"
   ]
  },
  {
   "cell_type": "markdown",
   "id": "ba956007",
   "metadata": {
    "slideshow": {
     "slide_type": "subslide"
    }
   },
   "source": [
    "### Here we also passed in our own constructred figure and axes to get the exact look. If you dont pass these in redback will figure it out on its own. Again, the axes are returned so users can also tinker with the plot further. Or pass things as keyword arguments in the function."
   ]
  },
  {
   "cell_type": "markdown",
   "id": "2071e856",
   "metadata": {
    "slideshow": {
     "slide_type": "slide"
    }
   },
   "source": [
    "### We can do the same thing with afterglows, supernovae, tde's etc etc"
   ]
  },
  {
   "cell_type": "code",
   "execution_count": 11,
   "id": "3f8eedac",
   "metadata": {
    "slideshow": {
     "slide_type": "subslide"
    }
   },
   "outputs": [
    {
     "name": "stderr",
     "output_type": "stream",
     "text": [
      "This GRB has no measured redshift, using default z = 0.75\n"
     ]
    },
    {
     "data": {
      "image/png": "[encoded data removed]",
      "text/plain": [
       "<Figure size 432x288 with 1 Axes>"
      ]
     },
     "metadata": {
      "needs_background": "light"
     },
     "output_type": "display_data"
    }
   ],
   "source": [
    "afterglow = redback.afterglow.SGRB.from_swift_grb(name=GRB, data_mode='flux',\n",
    "                                                  truncate=True, truncate_method=\"prompt_time_error\")\n",
    "afterglow.analytical_flux_to_luminosity()\n",
    "ax = afterglow.plot_data()"
   ]
  },
  {
   "cell_type": "markdown",
   "id": "a22cd542",
   "metadata": {
    "slideshow": {
     "slide_type": "slide"
    }
   },
   "source": [
    "## We can also plot/fit data in time in MJD, for scenario's when you don't know the true burst start time. This is done via using `use_phase_model=True`. When we get to fitting, this flag will ensure we use the right data and also infer the start time of the transient."
   ]
  },
  {
   "cell_type": "code",
   "execution_count": 12,
   "id": "d5cfa869",
   "metadata": {
    "slideshow": {
     "slide_type": "subslide"
    }
   },
   "outputs": [
    {
     "data": {
      "image/png": "[encoded data removed]",
      "text/plain": [
       "<Figure size 864x432 with 4 Axes>"
      ]
     },
     "metadata": {
      "needs_background": "light"
     },
     "output_type": "display_data"
    }
   ],
   "source": [
    "supernova = redback.supernova.Supernova.from_open_access_catalogue(name=sne, data_mode='flux_density', \n",
    "                                                                   use_phase_model=True)\n",
    "ax = supernova.plot_multiband(filters=[\"J\", \"H\", \"g\", \"i\"])"
   ]
  },
  {
   "cell_type": "markdown",
   "id": "04d72b36",
   "metadata": {
    "slideshow": {
     "slide_type": "slide"
    }
   },
   "source": [
    "# Sometimes the user may have their own data that they simulated or was their own private data. \n",
    "\n",
    "### All redback transient objects can be constructed by just passing in the relevant properties. Enabling the same functionality as above (and to use in fitting..)"
   ]
  },
  {
   "cell_type": "code",
   "execution_count": 13,
   "id": "6e010f4b",
   "metadata": {
    "slideshow": {
     "slide_type": "subslide"
    }
   },
   "outputs": [
    {
     "name": "stderr",
     "output_type": "stream",
     "text": [
      "Meta data does not exist for this event.\n"
     ]
    },
    {
     "data": {
      "image/png": "[encoded data removed]",
      "text/plain": [
       "<Figure size 432x288 with 1 Axes>"
      ]
     },
     "metadata": {
      "needs_background": "light"
     },
     "output_type": "display_data"
    }
   ],
   "source": [
    "data = pd.read_csv('example_data/grb_afterglow.csv')\n",
    "data['band'] = 'x'\n",
    "data['band'].iloc[data['frequency'] == 2.418000e+17] = 'X-ray'\n",
    "data['band'].iloc[data['frequency'] == 3.000000e+09] = 'Radio 3 GHz'\n",
    "data['band'].iloc[data['frequency'] == 6.000000e+09] = 'Radio 6 GHz'\n",
    "data['band'].iloc[data['frequency'] == 5.090000e+14] = 'V'\n",
    "data['band'].iloc[data['frequency'] == 3.730000e+14] = 'i'\n",
    "time_d = data['time'].values\n",
    "flux_density = data['flux'].values\n",
    "frequency = data['frequency'].values\n",
    "flux_density_err = data['flux_err'].values\n",
    "bands = data['band'].values\n",
    "\n",
    "data_mode = 'flux_density'\n",
    "\n",
    "name = '170817A'\n",
    "\n",
    "afterglow = redback.transient.Afterglow(\n",
    "    name=name, data_mode=data_mode, time=time_d,\n",
    "    flux_density=flux_density, flux_density_err=flux_density_err, frequency=frequency, bands=bands)\n",
    "\n",
    "ax = afterglow.plot_data()"
   ]
  },
  {
   "cell_type": "markdown",
   "id": "fc399341",
   "metadata": {
    "slideshow": {
     "slide_type": "slide"
    }
   },
   "source": [
    "### Like all other plots users can change things like plot labels, limits etc etc either by passing in a keyword argument or by modifying the axes of the plot."
   ]
  },
  {
   "cell_type": "code",
   "execution_count": 14,
   "id": "62400e15",
   "metadata": {
    "slideshow": {
     "slide_type": "subslide"
    }
   },
   "outputs": [
    {
     "name": "stderr",
     "output_type": "stream",
     "text": [
      "Meta data does not exist for this event.\n"
     ]
    },
    {
     "data": {
      "image/png": "[encoded data removed]",
      "text/plain": [
       "<Figure size 864x576 with 6 Axes>"
      ]
     },
     "metadata": {
      "needs_background": "light"
     },
     "output_type": "display_data"
    }
   ],
   "source": [
    "afterglow = redback.transient.Afterglow(\n",
    "    name=name, data_mode=data_mode, time=time_d,\n",
    "    flux_density=flux_density, flux_density_err=flux_density_err, frequency=frequency)\n",
    "\n",
    "ax = afterglow.plot_multiband()"
   ]
  },
  {
   "cell_type": "markdown",
   "id": "07a4cb54",
   "metadata": {
    "slideshow": {
     "slide_type": "slide"
    }
   },
   "source": [
    "# We could also simulate the observations ourselves, then load each set of observations into a transient object and then do inference!!\n",
    "\n",
    "## To simulate observations, we need a model.\n",
    "\n",
    "## In redback we have already implemented a lot of different models, which can be combined or modified to create another model easily. These models range from phenomenological, to analytical, semi-analytical to numerical surrogates built with machine learning techniques. Implementing a new model is probably the easiest way to contribute to redback!\n",
    "\n",
    "### Specifically, the models already included are\n",
    "\n",
    "### Afterglow models:\n",
    "\n",
    "- Several structured jet models implemented in afterglowpy.\n",
    "- Tophat jet implemented in afterglowpy.\n",
    "- Cocoon\n",
    "- Kilonova afterglow\n",
    "- Surrogate built on top of jetfit.\n",
    "- Surrogate built on top of boxfit.\n",
    "\n",
    "### Kilonova models\n",
    "\n",
    "- One/two/three component kilonova models\n",
    "- two_layer_stratified_kilonova\n",
    "- power_law_stratified_kilonova\n",
    "- kilonova heating rate\n",
    "- ejecta_relation_kilonova_model\n",
    "- Metzger 2017\n",
    "- Surrogates of several different numerical simulations\n",
    "- All kilonova models in gwemlightcurves\n",
    "\n",
    "### Supernova models\n",
    "\n",
    "- Arnett\n",
    "- CSM\n",
    "- CSM + Ni\n",
    "- Basic magnetar powered\n",
    "- General magnetar powered\n",
    "- Supernova 1A\n",
    "- Supernova 1C\n",
    "- SNcosmo\n",
    "- magnetar + nickel\n",
    "- SLSN\n",
    "- exponential powerlaw\n",
    "\n",
    "\n",
    "### Magnetar driven ejecta models\n",
    "\n",
    "- Metzger magnetar driven kilonova\n",
    "- Mergernova\n",
    "- Trapped magnetar\n",
    "- General magnetar driven kilonova\n",
    "\n",
    "### Millisecond magnetar models\n",
    "\n",
    "- vacuum dipole magnetar\n",
    "- magnetar with variable braking index\n",
    "- evolving magnetar\n",
    "- magnetar with radiative losses\n",
    "- collapsing magnetar\n",
    "- piecewise magnetar\n",
    "\n",
    "### Tidal disruption models\n",
    "\n",
    "- Simple analytic fallback\n",
    "- Surrogate from numerical simulation\n",
    "\n",
    "### Phenomenological/fireball models/other exotica\n",
    "\n",
    "- Fast blue optical transients\n",
    "- Skew gaussian\n",
    "- Skew exponential \n",
    "- fred\n",
    "- fred_extended\n",
    "- Gaussian\n",
    "- 1-6 component piecewise power law\n",
    "- exponential_powerlaw\n",
    "\n",
    "### We note that these models can output in flux_density or magnitude set by the keyword argument output_format or using the appropriate bolometric/flux function.\n",
    "\n",
    "### Alongside these models we also include some general models which can many of the above models as a base_model\n",
    "\n",
    "- Homologous expansion\n",
    "- Thin shell\n",
    "- Extinction models\n",
    "- Phase models\n",
    "- Phase + extinction models\n",
    "- Gaussian process base model: Will be soon implemented.\n",
    "\n",
    "### You can also make several modifications to all models using dependency injections or switches\n",
    "\n",
    "### For a full up to date list of models implemented in redback, look at the [API](https://redback.readthedocs.io/en/latest/index.html)"
   ]
  },
  {
   "cell_type": "markdown",
   "id": "a58346b1",
   "metadata": {
    "slideshow": {
     "slide_type": "slide"
    }
   },
   "source": [
    "## All models in redback are implemented as simple functions that do not require any other redback infrastructure. They can be used to simulate populations, get a sense of the impact of different parameters, or for debugging."
   ]
  },
  {
   "cell_type": "code",
   "execution_count": 15,
   "id": "a207de5d",
   "metadata": {
    "slideshow": {
     "slide_type": "subslide"
    }
   },
   "outputs": [
    {
     "data": {
      "text/plain": [
       "Text(0, 0.5, '$L_{\\\\rm bol}$')"
      ]
     },
     "execution_count": 15,
     "metadata": {},
     "output_type": "execute_result"
    },
    {
     "data": {
      "image/png": "[encoded data removed]",
      "text/plain": [
       "<Figure size 432x288 with 1 Axes>"
      ]
     },
     "metadata": {
      "needs_background": "light"
     },
     "output_type": "display_data"
    }
   ],
   "source": [
    "from redback.constants import day_to_s\n",
    "from redback.model_library import all_models_dict\n",
    "\n",
    "model = 'arnett_bolometric'\n",
    "\n",
    "function = all_models_dict[model]\n",
    "time = np.logspace(2, 8, 100)/day_to_s\n",
    "bolometric_luminosity = function(time, f_nickel=0.2,\n",
    "                    mej=30, vej=10000, kappa=2, kappa_gamma=1e2)\n",
    "plt.loglog(time, bolometric_luminosity)\n",
    "plt.xlabel('Time [days]')\n",
    "plt.ylabel(r'$L_{\\rm bol}$')"
   ]
  },
  {
   "cell_type": "markdown",
   "id": "6bdc9307",
   "metadata": {
    "slideshow": {
     "slide_type": "slide"
    }
   },
   "source": [
    "### Every function is documented, describing what the inputs are; their units etc etc. For some models we have also implemented a simple way to get a link to the paper describing it which provides further details. \n",
    "\n",
    "![](notebook_images/Docs.png)"
   ]
  },
  {
   "cell_type": "code",
   "execution_count": 16,
   "id": "ee73a12c",
   "metadata": {
    "slideshow": {
     "slide_type": "subslide"
    }
   },
   "outputs": [
    {
     "name": "stdout",
     "output_type": "stream",
     "text": [
      "https://ui.adsabs.harvard.edu/abs/1982ApJ...253..785A/abstract\n"
     ]
    }
   ],
   "source": [
    "print(function.citation)"
   ]
  },
  {
   "cell_type": "markdown",
   "id": "ceac30ff",
   "metadata": {
    "slideshow": {
     "slide_type": "slide"
    }
   },
   "source": [
    "## We can also simulate an entire population by creating a population prior (what distribution each of the parameters for the entire population are drawn from) and simulate lightcurves for all of them. This does not capture realistic survey features e.g., cadence but that can be easily incorporated.\n",
    "\n",
    "### Redback uses bilby for priors and there are plenty to choose from.\n",
    "\n",
    "Analytical priors\n",
    "-------------------------\n",
    "\n",
    "- Beta\n",
    "- Categorical\n",
    "- Cauchy\n",
    "- ChiSquared\n",
    "- Cosine\n",
    "- DeltaFunction\n",
    "- Exponential\n",
    "- FermiDirac\n",
    "- Gamma\n",
    "- Gaussian\n",
    "- HalfGaussian\n",
    "- LogGaussian\n",
    "- LogUniform\n",
    "- Logistic\n",
    "- Lorentzian\n",
    "- PowerLaw\n",
    "- Sine\n",
    "- StudentT\n",
    "- SymmetricLogUniform\n",
    "- TruncatedGaussian\n",
    "- Uniform\n",
    "\n",
    "\n",
    "Interpolated or from file\n",
    "-------------------------\n",
    "\n",
    "Users can also create a prior from a grid of values i.e., an interpolated_prior.\n",
    "See documentation [here](https://lscsoft.docs.ligo.org/bilby/api/bilby.core.prior.interpolated.Interped.html#bilby.core.prior.interpolated.Interped).\n",
    "\n",
    "### Every function has a default prior which can be loaded via"
   ]
  },
  {
   "cell_type": "code",
   "execution_count": 17,
   "id": "7d1563b8",
   "metadata": {
    "slideshow": {
     "slide_type": "subslide"
    }
   },
   "outputs": [
    {
     "data": {
      "text/plain": [
       "{'f_nickel': LogUniform(minimum=0.001, maximum=1, name='f_nickel', latex_label='$f_{\\\\mathrm{Ni}}$', unit=None, boundary=None),\n",
       " 'mej': LogUniform(minimum=0.0001, maximum=100, name='mej', latex_label='$M_{\\\\mathrm{ej}}[M_{\\\\odot}]$', unit=None, boundary=None),\n",
       " 'vej': LogUniform(minimum=1000.0, maximum=100000.0, name='vej', latex_label='$v_{\\\\mathrm{ej}}[km/s]$', unit=None, boundary=None),\n",
       " 'kappa': Uniform(minimum=0.05, maximum=2, name='kappa', latex_label='$\\\\kappa$', unit=None, boundary=None),\n",
       " 'kappa_gamma': Uniform(minimum=0.0001, maximum=10000.0, name='kappa_gamma', latex_label='$\\\\kappa_{\\\\gamma}$', unit=None, boundary=None)}"
      ]
     },
     "execution_count": 17,
     "metadata": {},
     "output_type": "execute_result"
    }
   ],
   "source": [
    "priors = redback.priors.get_priors(model=model)\n",
    "priors"
   ]
  },
  {
   "cell_type": "markdown",
   "id": "4c8249e3",
   "metadata": {
    "slideshow": {
     "slide_type": "slide"
    }
   },
   "source": [
    "### This prior object is essentially a dictionary of the different priors describing the shape, range, latex labels and units of each of the parameters. You can overwrite any of the priors as you would a standard python dictionary"
   ]
  },
  {
   "cell_type": "code",
   "execution_count": 18,
   "id": "13debf4c",
   "metadata": {
    "slideshow": {
     "slide_type": "subslide"
    }
   },
   "outputs": [],
   "source": [
    "priors['f_nickel'] = 0.5"
   ]
  },
  {
   "cell_type": "markdown",
   "id": "d6ad44d5",
   "metadata": {
    "slideshow": {
     "slide_type": "slide"
    }
   },
   "source": [
    "### We can sample randomly from the prior to create fake lightcurves"
   ]
  },
  {
   "cell_type": "code",
   "execution_count": 19,
   "id": "ada60ffe",
   "metadata": {
    "slideshow": {
     "slide_type": "subslide"
    }
   },
   "outputs": [
    {
     "data": {
      "text/html": [
       "<div>\n",
       "<style scoped>\n",
       "    .dataframe tbody tr th:only-of-type {\n",
       "        vertical-align: middle;\n",
       "    }\n",
       "\n",
       "    .dataframe tbody tr th {\n",
       "        vertical-align: top;\n",
       "    }\n",
       "\n",
       "    .dataframe thead th {\n",
       "        text-align: right;\n",
       "    }\n",
       "</style>\n",
       "<table border=\"1\" class=\"dataframe\">\n",
       "  <thead>\n",
       "    <tr style=\"text-align: right;\">\n",
       "      <th></th>\n",
       "      <th>f_nickel</th>\n",
       "      <th>mej</th>\n",
       "      <th>vej</th>\n",
       "      <th>kappa</th>\n",
       "      <th>kappa_gamma</th>\n",
       "    </tr>\n",
       "  </thead>\n",
       "  <tbody>\n",
       "    <tr>\n",
       "      <th>0</th>\n",
       "      <td>0.5</td>\n",
       "      <td>0.003478</td>\n",
       "      <td>7828.767583</td>\n",
       "      <td>0.212331</td>\n",
       "      <td>6858.253128</td>\n",
       "    </tr>\n",
       "    <tr>\n",
       "      <th>1</th>\n",
       "      <td>0.5</td>\n",
       "      <td>0.007212</td>\n",
       "      <td>1059.930047</td>\n",
       "      <td>0.850844</td>\n",
       "      <td>2516.870783</td>\n",
       "    </tr>\n",
       "    <tr>\n",
       "      <th>2</th>\n",
       "      <td>0.5</td>\n",
       "      <td>0.000192</td>\n",
       "      <td>1664.296178</td>\n",
       "      <td>0.660286</td>\n",
       "      <td>4279.654293</td>\n",
       "    </tr>\n",
       "    <tr>\n",
       "      <th>3</th>\n",
       "      <td>0.5</td>\n",
       "      <td>0.008146</td>\n",
       "      <td>3492.612705</td>\n",
       "      <td>0.114032</td>\n",
       "      <td>8801.099293</td>\n",
       "    </tr>\n",
       "    <tr>\n",
       "      <th>4</th>\n",
       "      <td>0.5</td>\n",
       "      <td>0.001885</td>\n",
       "      <td>89101.992666</td>\n",
       "      <td>0.083010</td>\n",
       "      <td>6381.773829</td>\n",
       "    </tr>\n",
       "    <tr>\n",
       "      <th>...</th>\n",
       "      <td>...</td>\n",
       "      <td>...</td>\n",
       "      <td>...</td>\n",
       "      <td>...</td>\n",
       "      <td>...</td>\n",
       "    </tr>\n",
       "    <tr>\n",
       "      <th>95</th>\n",
       "      <td>0.5</td>\n",
       "      <td>3.923532</td>\n",
       "      <td>38040.427805</td>\n",
       "      <td>0.484351</td>\n",
       "      <td>296.439843</td>\n",
       "    </tr>\n",
       "    <tr>\n",
       "      <th>96</th>\n",
       "      <td>0.5</td>\n",
       "      <td>0.048581</td>\n",
       "      <td>14001.789535</td>\n",
       "      <td>1.989082</td>\n",
       "      <td>758.447137</td>\n",
       "    </tr>\n",
       "    <tr>\n",
       "      <th>97</th>\n",
       "      <td>0.5</td>\n",
       "      <td>32.708315</td>\n",
       "      <td>1552.309863</td>\n",
       "      <td>0.570572</td>\n",
       "      <td>9333.516226</td>\n",
       "    </tr>\n",
       "    <tr>\n",
       "      <th>98</th>\n",
       "      <td>0.5</td>\n",
       "      <td>0.091345</td>\n",
       "      <td>10775.219452</td>\n",
       "      <td>0.140535</td>\n",
       "      <td>6124.604025</td>\n",
       "    </tr>\n",
       "    <tr>\n",
       "      <th>99</th>\n",
       "      <td>0.5</td>\n",
       "      <td>0.141081</td>\n",
       "      <td>79761.280797</td>\n",
       "      <td>1.462665</td>\n",
       "      <td>8364.989841</td>\n",
       "    </tr>\n",
       "  </tbody>\n",
       "</table>\n",
       "<p>100 rows × 5 columns</p>\n",
       "</div>"
      ],
      "text/plain": [
       "    f_nickel        mej           vej     kappa  kappa_gamma\n",
       "0        0.5   0.003478   7828.767583  0.212331  6858.253128\n",
       "1        0.5   0.007212   1059.930047  0.850844  2516.870783\n",
       "2        0.5   0.000192   1664.296178  0.660286  4279.654293\n",
       "3        0.5   0.008146   3492.612705  0.114032  8801.099293\n",
       "4        0.5   0.001885  89101.992666  0.083010  6381.773829\n",
       "..       ...        ...           ...       ...          ...\n",
       "95       0.5   3.923532  38040.427805  0.484351   296.439843\n",
       "96       0.5   0.048581  14001.789535  1.989082   758.447137\n",
       "97       0.5  32.708315   1552.309863  0.570572  9333.516226\n",
       "98       0.5   0.091345  10775.219452  0.140535  6124.604025\n",
       "99       0.5   0.141081  79761.280797  1.462665  8364.989841\n",
       "\n",
       "[100 rows x 5 columns]"
      ]
     },
     "execution_count": 19,
     "metadata": {},
     "output_type": "execute_result"
    }
   ],
   "source": [
    "samples = priors.sample(100)\n",
    "samples = pd.DataFrame(samples)\n",
    "samples"
   ]
  },
  {
   "cell_type": "markdown",
   "id": "d3a4f109",
   "metadata": {
    "slideshow": {
     "slide_type": "slide"
    }
   },
   "source": [
    "### We can place complex constraints on our prior to mimic a realistic survey. Say for example I wanted to create a population where none of the population was dimmer than 24th mag at peak in the r mag and that the peak was less than 50 days."
   ]
  },
  {
   "cell_type": "code",
   "execution_count": 20,
   "id": "cd8be1dc",
   "metadata": {
    "slideshow": {
     "slide_type": "subslide"
    }
   },
   "outputs": [],
   "source": [
    "def brightness_constraint(parameters):\n",
    "    \"\"\"\n",
    "    Ensure the Supernova is not dimmer than 24th Mag at peak and that the peak is at less than 50 days.\n",
    "    \"\"\"\n",
    "    converted_parameters = parameters.copy()\n",
    "    converted_parameters = pd.DataFrame(converted_parameters)\n",
    "    kwargs = {}\n",
    "    kwargs['frequency'] = redback.utils.bands_to_frequency('r')\n",
    "    kwargs['output_format'] = 'magnitude'\n",
    "    tdays = np.logspace(2, 7, 50)/day_to_s\n",
    "    mags = np.zeros(len(converted_parameters))\n",
    "    peak_t = np.zeros(len(converted_parameters))\n",
    "    for x in range(len(mags)):\n",
    "        mag = function(tdays, **converted_parameters.iloc[x], **kwargs)\n",
    "        mags[x] = np.min(mag)\n",
    "        peak_t[x] = tdays[np.argmax(mag)]\n",
    "    converted_parameters['peak_constraint'] = 24 - mags\n",
    "    converted_parameters['peak_time'] = 50 - peak_t\n",
    "    return converted_parameters\n",
    "\n",
    "model = 'arnett'\n",
    "\n",
    "function = all_models_dict[model]\n",
    "\n",
    "\n",
    "priors = PriorDict(conversion_function=brightness_constraint)\n",
    "priors['peak_constraint'] = bilby.core.prior.Constraint(0, 10)\n",
    "priors['peak_time'] = bilby.core.prior.Constraint(0, 10)\n",
    "priors.update(redback.priors.get_priors(model))\n",
    "priors['redshift'] = 0.5\n",
    "population_samples = pd.DataFrame(priors.sample(50))"
   ]
  },
  {
   "cell_type": "markdown",
   "id": "4db8979d",
   "metadata": {
    "slideshow": {
     "slide_type": "subslide"
    }
   },
   "source": [
    "# We can now go through and create r band lightcurves for all of them. We can also similarly create light curves for any other filter. You can also use your own model as the 'engine'. "
   ]
  },
  {
   "cell_type": "code",
   "execution_count": 21,
   "id": "f07cb54e",
   "metadata": {
    "slideshow": {
     "slide_type": "subslide"
    }
   },
   "outputs": [
    {
     "data": {
      "text/plain": [
       "(35.0, 16.0)"
      ]
     },
     "execution_count": 21,
     "metadata": {},
     "output_type": "execute_result"
    },
    {
     "data": {
      "image/png": "[encoded data removed]",
      "text/plain": [
       "<Figure size 432x288 with 1 Axes>"
      ]
     },
     "metadata": {
      "needs_background": "light"
     },
     "output_type": "display_data"
    }
   ],
   "source": [
    "for x in range(len(population_samples)):\n",
    "    tdays = np.logspace(2, 7, 50)/day_to_s\n",
    "    kwargs = {}\n",
    "    kwargs['frequency'] = redback.utils.bands_to_frequency('r')\n",
    "    kwargs['output_format'] = 'magnitude'\n",
    "    mags = function(tdays, **population_samples.iloc[x], **kwargs)\n",
    "    plt.semilogx(tdays, mags, 'C0o', c='red')\n",
    "plt.gca().invert_yaxis()\n",
    "plt.xlabel('Time [days]')\n",
    "plt.ylabel('Magnitude')\n",
    "plt.xlim(1e-3,40)\n",
    "plt.ylim(35, 16)"
   ]
  },
  {
   "cell_type": "markdown",
   "id": "d7e395e6",
   "metadata": {
    "slideshow": {
     "slide_type": "slide"
    }
   },
   "source": [
    "# With stuff about data/priors out of the way. Let's now turn to the primary purpose of redback: fitting. \n",
    "\n",
    "## Redback workflow for fitting\n",
    "- ### Download the data from a public catalog, or provide your own data. Or simulate it.\n",
    "\n",
    "- ### Load the data into a homogenous transient object, which does the necessary processing and provides simple way to plot data.\n",
    "\n",
    "- ### Specify a model (either already implemented in redback or their own function).\n",
    "\n",
    "- ### Write a prior or use the default priors.\n",
    "    - every model has default priors already implemented\n",
    "    - place constraints on the prior if necessary. These could be constraints related to the region the model is physical/something about the observation/non detections (this is one way but there are others), or where a numerical surrogate is trained on etc. \n",
    "\n",
    "- ### Specify a sampler and sampler settings as in bilby\n",
    "\n",
    "- ### Fit model!\n",
    "\n",
    "- ### The fit returns a homogenous result object, which can be used for further diagnostics, and provides a simple way to plot the fit.\n"
   ]
  },
  {
   "cell_type": "markdown",
   "id": "9405fd4a",
   "metadata": {
    "slideshow": {
     "slide_type": "slide"
    }
   },
   "source": [
    "## The examples provide more detailed complicated examples of fitting different transients. Here in the interest of both time and reduce complexity; I'll show a really simple/fast example."
   ]
  },
  {
   "cell_type": "code",
   "execution_count": 22,
   "id": "1b7d5ccf",
   "metadata": {
    "slideshow": {
     "slide_type": "slide"
    }
   },
   "outputs": [
    {
     "name": "stderr",
     "output_type": "stream",
     "text": [
      "You are downloading BAT and XRT data, you will need to truncate the data for some models.\n",
      "The raw data file already exists. Returning.\n",
      "The processed data file already exists. Returning.\n",
      "This GRB has no measured redshift, using default z = 0.75\n"
     ]
    }
   ],
   "source": [
    "# first specify some basic sampler settings, model name, transient name etc etc \n",
    "\n",
    "model = 'evolving_magnetar'\n",
    "GRB = '070809'\n",
    "# number of live points. Lower is faster but worse. Higher is slower but more reliable. \n",
    "nlive = 500\n",
    "sampler = 'nestle'\n",
    "\n",
    "#download the data \n",
    "data = redback.get_data.get_bat_xrt_afterglow_data_from_swift(grb=GRB, data_mode=\"flux\")\n",
    "\n",
    "# create the afterglow object; \n",
    "# truncate the data using the prompt_time_error method to get rid of \n",
    "# any erronous BAT data points not belonging to the transient.\n",
    "afterglow = redback.afterglow.SGRB.from_swift_grb(name=GRB, data_mode='flux',\n",
    "                                                  truncate=True, truncate_method=\"prompt_time_error\")\n",
    "# convert flux data to luminosity using an analytical approximation. \n",
    "# We could also use a numerical method utilising CIAO/Sherpa and the spectrum. \n",
    "afterglow.analytical_flux_to_luminosity()\n",
    "\n",
    "# load the default priors for the model \n",
    "priors = redback.priors.get_priors(model=model)\n",
    "\n",
    "result = redback.fit_model(model=model, sampler=sampler, nlive=nlive, transient=afterglow,\n",
    "                           prior=priors, sample='rslice', resume=True)\n"
   ]
  },
  {
   "cell_type": "markdown",
   "id": "b70451ac",
   "metadata": {
    "slideshow": {
     "slide_type": "slide"
    }
   },
   "source": [
    "### The fitting will print out a bunch of things which are helpful diagnostics and indicate how things are processing, what settings are used and when things will finish. Most samplers have checkpointing so if for some reason your computer crashes/supercomputer goes down; progress is not lost.\n",
    "\n",
    "### The fitting returns a result object which has a lot of different attributes and methods allowing further diagnostics."
   ]
  },
  {
   "cell_type": "markdown",
   "id": "e982fbf6",
   "metadata": {
    "slideshow": {
     "slide_type": "subslide"
    }
   },
   "source": [
    "### A dataframe of the posterior values"
   ]
  },
  {
   "cell_type": "code",
   "execution_count": 23,
   "id": "b10f07af",
   "metadata": {
    "slideshow": {
     "slide_type": "subslide"
    }
   },
   "outputs": [
    {
     "data": {
      "text/html": [
       "<div>\n",
       "<style scoped>\n",
       "    .dataframe tbody tr th:only-of-type {\n",
       "        vertical-align: middle;\n",
       "    }\n",
       "\n",
       "    .dataframe tbody tr th {\n",
       "        vertical-align: top;\n",
       "    }\n",
       "\n",
       "    .dataframe thead th {\n",
       "        text-align: right;\n",
       "    }\n",
       "</style>\n",
       "<table border=\"1\" class=\"dataframe\">\n",
       "  <thead>\n",
       "    <tr style=\"text-align: right;\">\n",
       "      <th></th>\n",
       "      <th>a_1</th>\n",
       "      <th>alpha_1</th>\n",
       "      <th>p0</th>\n",
       "      <th>mu0</th>\n",
       "      <th>muinf</th>\n",
       "      <th>sinalpha0</th>\n",
       "      <th>tm</th>\n",
       "      <th>II</th>\n",
       "      <th>log_likelihood</th>\n",
       "      <th>log_prior</th>\n",
       "    </tr>\n",
       "  </thead>\n",
       "  <tbody>\n",
       "    <tr>\n",
       "      <th>0</th>\n",
       "      <td>0.426928</td>\n",
       "      <td>-9.116152</td>\n",
       "      <td>0.014075</td>\n",
       "      <td>7.560817</td>\n",
       "      <td>8.433566</td>\n",
       "      <td>0.253590</td>\n",
       "      <td>33.202011</td>\n",
       "      <td>7.708782e+45</td>\n",
       "      <td>340.043782</td>\n",
       "      <td>-119.305246</td>\n",
       "    </tr>\n",
       "    <tr>\n",
       "      <th>1</th>\n",
       "      <td>0.000002</td>\n",
       "      <td>-7.720931</td>\n",
       "      <td>0.017296</td>\n",
       "      <td>8.900496</td>\n",
       "      <td>9.633476</td>\n",
       "      <td>0.824485</td>\n",
       "      <td>79.009243</td>\n",
       "      <td>5.210606e+45</td>\n",
       "      <td>341.105209</td>\n",
       "      <td>-106.377829</td>\n",
       "    </tr>\n",
       "    <tr>\n",
       "      <th>2</th>\n",
       "      <td>0.009738</td>\n",
       "      <td>-1.524255</td>\n",
       "      <td>0.013265</td>\n",
       "      <td>6.939757</td>\n",
       "      <td>4.494895</td>\n",
       "      <td>0.158576</td>\n",
       "      <td>88.267051</td>\n",
       "      <td>7.204083e+45</td>\n",
       "      <td>341.693627</td>\n",
       "      <td>-115.457003</td>\n",
       "    </tr>\n",
       "    <tr>\n",
       "      <th>3</th>\n",
       "      <td>0.046184</td>\n",
       "      <td>-1.791119</td>\n",
       "      <td>0.014011</td>\n",
       "      <td>6.287822</td>\n",
       "      <td>0.251688</td>\n",
       "      <td>0.650281</td>\n",
       "      <td>98.722473</td>\n",
       "      <td>5.911802e+45</td>\n",
       "      <td>343.717053</td>\n",
       "      <td>-116.815861</td>\n",
       "    </tr>\n",
       "    <tr>\n",
       "      <th>4</th>\n",
       "      <td>15002.257869</td>\n",
       "      <td>-4.059634</td>\n",
       "      <td>0.012903</td>\n",
       "      <td>4.890469</td>\n",
       "      <td>4.197952</td>\n",
       "      <td>0.481496</td>\n",
       "      <td>9.475909</td>\n",
       "      <td>6.108721e+45</td>\n",
       "      <td>344.648664</td>\n",
       "      <td>-129.539698</td>\n",
       "    </tr>\n",
       "    <tr>\n",
       "      <th>...</th>\n",
       "      <td>...</td>\n",
       "      <td>...</td>\n",
       "      <td>...</td>\n",
       "      <td>...</td>\n",
       "      <td>...</td>\n",
       "      <td>...</td>\n",
       "      <td>...</td>\n",
       "      <td>...</td>\n",
       "      <td>...</td>\n",
       "      <td>...</td>\n",
       "    </tr>\n",
       "    <tr>\n",
       "      <th>8212</th>\n",
       "      <td>3.069768</td>\n",
       "      <td>-2.175525</td>\n",
       "      <td>0.009172</td>\n",
       "      <td>2.954213</td>\n",
       "      <td>3.483499</td>\n",
       "      <td>0.344005</td>\n",
       "      <td>35.017181</td>\n",
       "      <td>3.777313e+45</td>\n",
       "      <td>355.708474</td>\n",
       "      <td>-120.564640</td>\n",
       "    </tr>\n",
       "    <tr>\n",
       "      <th>8213</th>\n",
       "      <td>4.345909</td>\n",
       "      <td>-2.268510</td>\n",
       "      <td>0.018405</td>\n",
       "      <td>9.848638</td>\n",
       "      <td>0.536904</td>\n",
       "      <td>0.735669</td>\n",
       "      <td>22.236759</td>\n",
       "      <td>9.179414e+45</td>\n",
       "      <td>355.354891</td>\n",
       "      <td>-121.800223</td>\n",
       "    </tr>\n",
       "    <tr>\n",
       "      <th>8214</th>\n",
       "      <td>4.345909</td>\n",
       "      <td>-2.268510</td>\n",
       "      <td>0.018405</td>\n",
       "      <td>9.848638</td>\n",
       "      <td>0.536904</td>\n",
       "      <td>0.735669</td>\n",
       "      <td>22.236759</td>\n",
       "      <td>9.179414e+45</td>\n",
       "      <td>355.354891</td>\n",
       "      <td>-121.800223</td>\n",
       "    </tr>\n",
       "    <tr>\n",
       "      <th>8215</th>\n",
       "      <td>4.345909</td>\n",
       "      <td>-2.268510</td>\n",
       "      <td>0.018405</td>\n",
       "      <td>9.848638</td>\n",
       "      <td>0.536904</td>\n",
       "      <td>0.735669</td>\n",
       "      <td>22.236759</td>\n",
       "      <td>9.179414e+45</td>\n",
       "      <td>355.354891</td>\n",
       "      <td>-121.800223</td>\n",
       "    </tr>\n",
       "    <tr>\n",
       "      <th>8216</th>\n",
       "      <td>4.345909</td>\n",
       "      <td>-2.268510</td>\n",
       "      <td>0.018405</td>\n",
       "      <td>9.848638</td>\n",
       "      <td>0.536904</td>\n",
       "      <td>0.735669</td>\n",
       "      <td>22.236759</td>\n",
       "      <td>9.179414e+45</td>\n",
       "      <td>355.354891</td>\n",
       "      <td>-121.800223</td>\n",
       "    </tr>\n",
       "  </tbody>\n",
       "</table>\n",
       "<p>8217 rows × 10 columns</p>\n",
       "</div>"
      ],
      "text/plain": [
       "               a_1   alpha_1        p0       mu0     muinf  sinalpha0  \\\n",
       "0         0.426928 -9.116152  0.014075  7.560817  8.433566   0.253590   \n",
       "1         0.000002 -7.720931  0.017296  8.900496  9.633476   0.824485   \n",
       "2         0.009738 -1.524255  0.013265  6.939757  4.494895   0.158576   \n",
       "3         0.046184 -1.791119  0.014011  6.287822  0.251688   0.650281   \n",
       "4     15002.257869 -4.059634  0.012903  4.890469  4.197952   0.481496   \n",
       "...            ...       ...       ...       ...       ...        ...   \n",
       "8212      3.069768 -2.175525  0.009172  2.954213  3.483499   0.344005   \n",
       "8213      4.345909 -2.268510  0.018405  9.848638  0.536904   0.735669   \n",
       "8214      4.345909 -2.268510  0.018405  9.848638  0.536904   0.735669   \n",
       "8215      4.345909 -2.268510  0.018405  9.848638  0.536904   0.735669   \n",
       "8216      4.345909 -2.268510  0.018405  9.848638  0.536904   0.735669   \n",
       "\n",
       "             tm            II  log_likelihood   log_prior  \n",
       "0     33.202011  7.708782e+45      340.043782 -119.305246  \n",
       "1     79.009243  5.210606e+45      341.105209 -106.377829  \n",
       "2     88.267051  7.204083e+45      341.693627 -115.457003  \n",
       "3     98.722473  5.911802e+45      343.717053 -116.815861  \n",
       "4      9.475909  6.108721e+45      344.648664 -129.539698  \n",
       "...         ...           ...             ...         ...  \n",
       "8212  35.017181  3.777313e+45      355.708474 -120.564640  \n",
       "8213  22.236759  9.179414e+45      355.354891 -121.800223  \n",
       "8214  22.236759  9.179414e+45      355.354891 -121.800223  \n",
       "8215  22.236759  9.179414e+45      355.354891 -121.800223  \n",
       "8216  22.236759  9.179414e+45      355.354891 -121.800223  \n",
       "\n",
       "[8217 rows x 10 columns]"
      ]
     },
     "execution_count": 23,
     "metadata": {},
     "output_type": "execute_result"
    }
   ],
   "source": [
    "result.posterior"
   ]
  },
  {
   "cell_type": "markdown",
   "id": "075ea511",
   "metadata": {
    "slideshow": {
     "slide_type": "subslide"
    }
   },
   "source": [
    "### Other metadata/methods"
   ]
  },
  {
   "cell_type": "code",
   "execution_count": 24,
   "id": "d0a37431",
   "metadata": {
    "slideshow": {
     "slide_type": "subslide"
    }
   },
   "outputs": [
    {
     "name": "stdout",
     "output_type": "stream",
     "text": [
      "341.4049521126413\n",
      "0.1569401395404265\n",
      "5.332259505346883\n",
      "[[ 3.77608615e+27 -4.85316474e+13 -8.12376950e+08  2.42308125e+12\n",
      "  -1.21373390e+11 -8.20115760e+11 -9.55496925e+12  6.05234874e+57]\n",
      " [-4.85316474e+13  4.36597365e+00  2.18957537e-04 -9.84469764e-02\n",
      "   5.90934315e-02  3.40676202e-02  6.97126854e-01 -4.72740715e+43]\n",
      " [-8.12376950e+08  2.18957537e-04  7.13818561e-06  5.22664033e-03\n",
      "   1.07915077e-05  2.25651424e-04 -2.17977677e-03  4.36696955e+42]\n",
      " [ 2.42308125e+12 -9.84469764e-02  5.22664033e-03  4.10986833e+00\n",
      "   6.65932888e-02  7.90132496e-02 -1.44701469e+00  3.81991879e+45]\n",
      " [-1.21373390e+11  5.90934315e-02  1.07915077e-05  6.65932888e-02\n",
      "   8.02862695e+00 -3.23181630e-02  1.10807489e+00  1.98916313e+44]\n",
      " [-8.20115760e+11  3.40676202e-02  2.25651424e-04  7.90132496e-02\n",
      "  -3.23181630e-02  5.35439041e-02  2.88556759e-02 -1.45540497e+44]\n",
      " [-9.55496925e+12  6.97126854e-01 -2.17977677e-03 -1.44701469e+00\n",
      "   1.10807489e+00  2.88556759e-02  7.56376177e+02 -2.07322763e+45]\n",
      " [ 6.05234874e+57 -4.72740715e+43  4.36696955e+42  3.81991879e+45\n",
      "   1.98916313e+44 -1.45540497e+44 -2.07322763e+45  5.18408768e+90]]\n",
      "12.315103699484268\n",
      "None\n",
      "<redback.transient.afterglow.SGRB object at 0x7fd466346ca0>\n",
      "sgrb\n",
      "2.918842967871632e-21\n"
     ]
    }
   ],
   "source": [
    "print(result.log_evidence)\n",
    "print(result.log_evidence_err)\n",
    "print(result.bayesian_model_dimensionality)\n",
    "print(result.covariance_matrix)\n",
    "print(result.information_gain)\n",
    "print(result.max_autocorrelation_time)\n",
    "print(result.transient)\n",
    "print(result.transient_type)\n",
    "print(result.occam_factor(result.priors))"
   ]
  },
  {
   "cell_type": "markdown",
   "id": "113eae3f",
   "metadata": {
    "slideshow": {
     "slide_type": "slide"
    }
   },
   "source": [
    "### Plotting methods"
   ]
  },
  {
   "cell_type": "code",
   "execution_count": 25,
   "id": "ad195825",
   "metadata": {
    "slideshow": {
     "slide_type": "slide"
    }
   },
   "outputs": [
    {
     "data": {
      "image/png": "[encoded data removed]",
      "text/plain": [
       "<Figure size 849.6x849.6 with 25 Axes>"
      ]
     },
     "metadata": {
      "needs_background": "light"
     },
     "output_type": "display_data"
    }
   ],
   "source": [
    "result.plot_corner(parameters=['p0', 'muinf', 'mu0', 'alpha_1', 'tm'], save=False, priors=True)\n",
    "plt.show()"
   ]
  },
  {
   "cell_type": "code",
   "execution_count": 26,
   "id": "70824790",
   "metadata": {
    "slideshow": {
     "slide_type": "slide"
    }
   },
   "outputs": [
    {
     "data": {
      "image/png": "[encoded data removed]",
      "text/plain": [
       "<Figure size 432x288 with 1 Axes>"
      ]
     },
     "metadata": {
      "needs_background": "light"
     },
     "output_type": "display_data"
    }
   ],
   "source": [
    "result.plot_lightcurve(random_models=100)"
   ]
  },
  {
   "cell_type": "markdown",
   "id": "b39c976d",
   "metadata": {
    "slideshow": {
     "slide_type": "slide"
    }
   },
   "source": [
    "## Method to plot multiband lightcurve; 1 band/frequency on each panel with fit going through them.\n",
    "\n",
    "`result.plot_multiband_lightcurve`\n",
    "\n",
    "## Method to plot the transient data; i.e., same thing as the transient object plot_data and plot_multiband.\n",
    "\n",
    "`result.plot_data`\n",
    "\n",
    "`result.plot_multiband`\n",
    "\n",
    "## Method to plot the CDF and PDF of all parameters/log_likelihood and log_prior\n",
    "\n",
    "`result.plot_marginals`\n",
    "\n",
    "## Method to plot the walkers if using an MCMC sampler \n",
    "\n",
    "`result.plot_walkers`\n"
   ]
  },
  {
   "cell_type": "markdown",
   "id": "572edf3b",
   "metadata": {
    "slideshow": {
     "slide_type": "slide"
    }
   },
   "source": [
    "## Other result features\n",
    "\n",
    "- ### Reweighting to a different prior/model.\n",
    "\n",
    "- ### Changing formats; creating an arviz result object.\n",
    "\n",
    "- ### Making pp plots for a population\n",
    "\n",
    "- ### Hierarchical inference/recycling functionality.\n"
   ]
  },
  {
   "cell_type": "code",
   "execution_count": 27,
   "id": "74b43f57",
   "metadata": {
    "slideshow": {
     "slide_type": "slide"
    }
   },
   "outputs": [
    {
     "data": {
      "text/plain": [
       "'${-2.71}_{-2.87}^{+0.69}$'"
      ]
     },
     "execution_count": 27,
     "metadata": {},
     "output_type": "execute_result"
    }
   ],
   "source": [
    "redback.utils.calc_one_dimensional_median_and_error_bar(result.posterior['alpha_1'], \n",
    "                                                        quantiles=(0.16,0.84), fmt='.2f').string"
   ]
  },
  {
   "cell_type": "markdown",
   "id": "c63db8f5",
   "metadata": {
    "slideshow": {
     "slide_type": "slide"
    }
   },
   "source": [
    "## You can also load a result file from different analyses enabling the same functionality as above."
   ]
  },
  {
   "cell_type": "code",
   "execution_count": 28,
   "id": "98fa88aa",
   "metadata": {
    "slideshow": {
     "slide_type": "slide"
    }
   },
   "outputs": [],
   "source": [
    "path = 'GRBData/afterglow/luminosity/evolving_magnetar/GRB070809_result.json'\n",
    "my_result = redback.result.read_in_result(path)"
   ]
  },
  {
   "cell_type": "markdown",
   "id": "4a1569d3",
   "metadata": {
    "slideshow": {
     "slide_type": "slide"
    }
   },
   "source": [
    "## Contributing/Plans\n",
    "\n",
    "### Redback is currently in alpha with a paper in prep. All contributers in alpha will be invited to be coauthors. The contribution can range from simply testing/bug fixing the package to implementing new features/models etc. \n"
   ]
  },
  {
   "cell_type": "markdown",
   "id": "56d3dba4",
   "metadata": {
    "slideshow": {
     "slide_type": "slide"
    }
   },
   "source": [
    "Learning more\n",
    "--------\n",
    "\n",
    "#### There are several examples showing the different abilities of redback in more detail. \n",
    "\n",
    "- #### broadband_afterglow_private_data_example\n",
    "- #### fit_your_own_model_example\n",
    "- #### kilonova_example\n",
    "- #### magnetar_boosted_example\n",
    "- #### magnetar_example\n",
    "- #### prompt_example\n",
    "- #### supernova_example\n",
    "- #### tde_example\n",
    "- #### SN2011kl_sample_in_t0_example\n",
    "\n",
    "Coming soon:\n",
    "---------------- \n",
    "\n",
    "- #### Sampling with constraint priors\n",
    "- #### homologous expansion\n",
    "- #### Simulating a population with redback\n",
    "- #### Creating and sampling with new ejecta relations\n",
    "- #### Joint likelihood analysis\n",
    "- #### Gaussian process with a redback base model using tinygp\n",
    "\n",
    "### Check out all the examples [here](https://github.com/nikhil-sarin/redback/tree/master/examples). There is also extensive [documentation](https://redback.readthedocs.io/en/latest/). "
   ]
  },
  {
   "cell_type": "markdown",
   "id": "781b70d1",
   "metadata": {
    "slideshow": {
     "slide_type": "slide"
    }
   },
   "source": [
    "<img src=\"notebook_images/RedbackLogo.png\" alt=\"drawing\" width=\"500\"/>"
   ]
  }
 ],
 "metadata": {
  "kernelspec": {
   "display_name": "Python 3 (ipykernel)",
   "language": "python",
   "name": "python3"
  },
  "language_info": {
   "codemirror_mode": {
    "name": "ipython",
    "version": 3
   },
   "file_extension": ".py",
   "mimetype": "text/x-python",
   "name": "python",
   "nbconvert_exporter": "python",
   "pygments_lexer": "ipython3",
   "version": "3.10.0"
  }
 },
 "nbformat": 4,
 "nbformat_minor": 5
}
